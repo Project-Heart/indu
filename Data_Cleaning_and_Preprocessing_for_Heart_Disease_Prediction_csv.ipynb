{
  "nbformat": 4,
  "nbformat_minor": 5,
  "metadata": {
    "kernelspec": {
      "display_name": "Python 3",
      "language": "python",
      "name": "python3"
    },
    "language_info": {
      "codemirror_mode": {
        "name": "ipython",
        "version": 3
      },
      "file_extension": ".py",
      "mimetype": "text/x-python",
      "name": "python",
      "nbconvert_exporter": "python",
      "pygments_lexer": "ipython3",
      "version": "3.8.8"
    },
    "colab": {
      "name": "Data Cleaning and Preprocessing for Heart_Disease_Prediction.csv.ipynb",
      "provenance": []
    }
  },
  "cells": [
    {
      "cell_type": "code",
      "metadata": {
        "id": "e81c1091",
        "outputId": "94a81e7b-bfae-41f6-81dd-9667f9e082df"
      },
      "source": [
        "print(\"Team - 5\")\n",
        "print(\"Project Name - Heart Disease Prediction System.\")\n",
        "print(\"Module - Preprocessing, Data Cleaning and Exploratory Data Analysis.\")\n",
        "print(\"Dataset used - \\'Heart_Disease_Prediction.csv'\")"
      ],
      "id": "e81c1091",
      "execution_count": null,
      "outputs": [
        {
          "name": "stdout",
          "output_type": "stream",
          "text": [
            "Team - 5\n",
            "Project Name - Heart Disease Prediction System.\n",
            "Module - Preprocessing, Data Cleaning and Exploratory Data Analysis.\n",
            "Dataset used - 'Heart_Disease_Prediction.csv'\n"
          ]
        }
      ]
    },
    {
      "cell_type": "code",
      "metadata": {
        "id": "7419e79b"
      },
      "source": [
        "import pandas as pd\n",
        "import numpy as np\n",
        "import matplotlib.pyplot as plt\n",
        "from sklearn.preprocessing import StandardScaler\n",
        "data = pd.read_csv(r\"C:\\Users\\HP\\Downloads/Heart_Disease_Prediction.csv\")"
      ],
      "id": "7419e79b",
      "execution_count": null,
      "outputs": []
    },
    {
      "cell_type": "code",
      "metadata": {
        "id": "e89b7d28",
        "outputId": "7fa007eb-48b2-4f64-9ec9-b29ab28b8b99"
      },
      "source": [
        "print(data.head())"
      ],
      "id": "e89b7d28",
      "execution_count": null,
      "outputs": [
        {
          "name": "stdout",
          "output_type": "stream",
          "text": [
            "   Age  Sex  Chest pain type   BP  Cholesterol  FBS over 120  EKG results  \\\n",
            "0   70    1                4  130          322             0            2   \n",
            "1   67    0                3  115          564             0            2   \n",
            "2   57    1                2  124          261             0            0   \n",
            "3   64    1                4  128          263             0            0   \n",
            "4   74    0                2  120          269             0            2   \n",
            "\n",
            "   Max HR  Exercise angina  ST depression  Slope of ST  \\\n",
            "0     109                0            2.4            2   \n",
            "1     160                0            1.6            2   \n",
            "2     141                0            0.3            1   \n",
            "3     105                1            0.2            2   \n",
            "4     121                1            0.2            1   \n",
            "\n",
            "   Number of vessels fluro  Thallium Heart Disease  \n",
            "0                        3         3      Presence  \n",
            "1                        0         7       Absence  \n",
            "2                        0         7      Presence  \n",
            "3                        1         7       Absence  \n",
            "4                        1         3       Absence  \n"
          ]
        }
      ]
    },
    {
      "cell_type": "code",
      "metadata": {
        "id": "334e392c",
        "outputId": "22211b18-e938-4885-e095-6e95cbe46474"
      },
      "source": [
        "x=data.iloc[:,0:15].values\n",
        "print(x)"
      ],
      "id": "334e392c",
      "execution_count": null,
      "outputs": [
        {
          "name": "stdout",
          "output_type": "stream",
          "text": [
            "[[70 1 4 ... 3 3 'Presence']\n",
            " [67 0 3 ... 0 7 'Absence']\n",
            " [57 1 2 ... 0 7 'Presence']\n",
            " ...\n",
            " [56 0 2 ... 0 3 'Absence']\n",
            " [57 1 4 ... 0 6 'Absence']\n",
            " [67 1 4 ... 3 3 'Presence']]\n"
          ]
        }
      ]
    },
    {
      "cell_type": "code",
      "metadata": {
        "id": "819cf8c4",
        "outputId": "2e543595-2017-4658-df51-014d835c014c"
      },
      "source": [
        "y=data.iloc[:,1].values\n",
        "print(y)"
      ],
      "id": "819cf8c4",
      "execution_count": null,
      "outputs": [
        {
          "name": "stdout",
          "output_type": "stream",
          "text": [
            "[1 0 1 1 0 1 1 1 1 0 1 1 1 1 0 0 1 1 1 1 1 1 1 1 0 0 0 0 1 0 1 1 0 1 1 1 1\n",
            " 1 1 1 1 0 1 1 1 1 1 1 1 0 1 1 0 0 0 0 1 0 0 1 1 0 1 0 1 1 1 0 0 1 1 0 1 0\n",
            " 0 1 1 0 0 1 1 1 1 1 1 1 1 1 0 1 1 0 1 1 1 1 1 1 0 0 0 1 0 1 1 1 1 0 1 0 0\n",
            " 1 0 0 1 0 1 0 0 1 1 1 1 0 1 0 1 0 1 1 0 1 1 1 1 0 0 1 0 1 1 1 1 1 1 1 1 1\n",
            " 1 0 1 0 0 0 0 0 1 1 1 0 1 0 1 1 1 0 0 1 0 1 1 1 1 0 1 0 1 1 1 1 1 0 1 0 1\n",
            " 1 1 1 0 1 1 1 1 1 1 0 0 0 0 1 1 1 1 1 1 1 0 1 1 1 1 1 0 1 1 0 0 1 1 1 1 1\n",
            " 1 1 0 1 0 0 0 1 0 1 1 1 1 0 0 1 1 1 1 1 0 0 0 1 1 0 1 1 1 1 1 1 1 0 1 1 1\n",
            " 1 0 1 1 1 1 1 1 0 1 1]\n"
          ]
        }
      ]
    },
    {
      "cell_type": "code",
      "metadata": {
        "id": "bf923606",
        "outputId": "7b6a0de4-f677-4a4e-aa16-4b43dba5da14"
      },
      "source": [
        "print(data.describe())"
      ],
      "id": "bf923606",
      "execution_count": null,
      "outputs": [
        {
          "name": "stdout",
          "output_type": "stream",
          "text": [
            "              Age         Sex  Chest pain type          BP  Cholesterol  \\\n",
            "count  270.000000  270.000000       270.000000  270.000000   270.000000   \n",
            "mean    54.433333    0.677778         3.174074  131.344444   249.659259   \n",
            "std      9.109067    0.468195         0.950090   17.861608    51.686237   \n",
            "min     29.000000    0.000000         1.000000   94.000000   126.000000   \n",
            "25%     48.000000    0.000000         3.000000  120.000000   213.000000   \n",
            "50%     55.000000    1.000000         3.000000  130.000000   245.000000   \n",
            "75%     61.000000    1.000000         4.000000  140.000000   280.000000   \n",
            "max     77.000000    1.000000         4.000000  200.000000   564.000000   \n",
            "\n",
            "       FBS over 120  EKG results      Max HR  Exercise angina  ST depression  \\\n",
            "count    270.000000   270.000000  270.000000       270.000000      270.00000   \n",
            "mean       0.148148     1.022222  149.677778         0.329630        1.05000   \n",
            "std        0.355906     0.997891   23.165717         0.470952        1.14521   \n",
            "min        0.000000     0.000000   71.000000         0.000000        0.00000   \n",
            "25%        0.000000     0.000000  133.000000         0.000000        0.00000   \n",
            "50%        0.000000     2.000000  153.500000         0.000000        0.80000   \n",
            "75%        0.000000     2.000000  166.000000         1.000000        1.60000   \n",
            "max        1.000000     2.000000  202.000000         1.000000        6.20000   \n",
            "\n",
            "       Slope of ST  Number of vessels fluro    Thallium  \n",
            "count   270.000000               270.000000  270.000000  \n",
            "mean      1.585185                 0.670370    4.696296  \n",
            "std       0.614390                 0.943896    1.940659  \n",
            "min       1.000000                 0.000000    3.000000  \n",
            "25%       1.000000                 0.000000    3.000000  \n",
            "50%       2.000000                 0.000000    3.000000  \n",
            "75%       2.000000                 1.000000    7.000000  \n",
            "max       3.000000                 3.000000    7.000000  \n"
          ]
        }
      ]
    },
    {
      "cell_type": "code",
      "metadata": {
        "id": "e24aaf8e",
        "outputId": "20b81bcf-703b-4bc4-cd55-fc2c0e26df7d"
      },
      "source": [
        "print(data.shape)"
      ],
      "id": "e24aaf8e",
      "execution_count": null,
      "outputs": [
        {
          "name": "stdout",
          "output_type": "stream",
          "text": [
            "(270, 14)\n"
          ]
        }
      ]
    },
    {
      "cell_type": "code",
      "metadata": {
        "id": "cdf2f57d",
        "outputId": "9839810d-8a0d-44ff-bd51-9e809e3c53d5"
      },
      "source": [
        "# Checking for the missing values.\n",
        "data.isnull().values.any()"
      ],
      "id": "cdf2f57d",
      "execution_count": null,
      "outputs": [
        {
          "data": {
            "text/plain": [
              "False"
            ]
          },
          "execution_count": 8,
          "metadata": {},
          "output_type": "execute_result"
        }
      ]
    },
    {
      "cell_type": "code",
      "metadata": {
        "id": "7f4a269f",
        "outputId": "37d6bc4b-6147-4592-abe2-96e6a8c9f2d7"
      },
      "source": [
        "missing_value_count_by_column=(data.isnull().sum())\n",
        "print(missing_value_count_by_column[missing_value_count_by_column>0])"
      ],
      "id": "7f4a269f",
      "execution_count": null,
      "outputs": [
        {
          "name": "stdout",
          "output_type": "stream",
          "text": [
            "Series([], dtype: int64)\n"
          ]
        }
      ]
    },
    {
      "cell_type": "code",
      "metadata": {
        "id": "0d83578c"
      },
      "source": [
        "#Dropping columns with missing values\n",
        "#data_without_missing_values=data.dropna(axis=1)\n",
        "cols_with_missing=[col for col in data.columns if data[col].isnull().any()]\n",
        "reduced_original_data=data.drop(cols_with_missing,axis=1)\n",
        "reduced_test_data=data.drop(cols_with_missing,axis=1)"
      ],
      "id": "0d83578c",
      "execution_count": null,
      "outputs": []
    },
    {
      "cell_type": "code",
      "metadata": {
        "id": "88600094",
        "outputId": "fddaec28-53fb-40ed-b405-6fcce21422d0"
      },
      "source": [
        "#Catgorical data  \n",
        "#for Country Variable  \n",
        "from sklearn.preprocessing import LabelEncoder  \n",
        "label_encoder_x= LabelEncoder()  \n",
        "x[:, 0]= label_encoder_x.fit_transform(x[:, 0]) \n",
        "print(x)"
      ],
      "id": "88600094",
      "execution_count": null,
      "outputs": [
        {
          "name": "stdout",
          "output_type": "stream",
          "text": [
            "[[36 1 4 ... 3 3 'Presence']\n",
            " [33 0 3 ... 0 7 'Absence']\n",
            " [23 1 2 ... 0 7 'Presence']\n",
            " ...\n",
            " [22 0 2 ... 0 3 'Absence']\n",
            " [23 1 4 ... 0 6 'Absence']\n",
            " [33 1 4 ... 3 3 'Presence']]\n"
          ]
        }
      ]
    },
    {
      "cell_type": "code",
      "metadata": {
        "id": "fd71cc5e",
        "outputId": "6291a4c5-4b0d-4c5d-f232-0a7cae5a4b43"
      },
      "source": [
        "labelencoder_y= LabelEncoder()  \n",
        "y= labelencoder_y.fit_transform(y)  \n",
        "print(y)"
      ],
      "id": "fd71cc5e",
      "execution_count": null,
      "outputs": [
        {
          "name": "stdout",
          "output_type": "stream",
          "text": [
            "[1 0 1 1 0 1 1 1 1 0 1 1 1 1 0 0 1 1 1 1 1 1 1 1 0 0 0 0 1 0 1 1 0 1 1 1 1\n",
            " 1 1 1 1 0 1 1 1 1 1 1 1 0 1 1 0 0 0 0 1 0 0 1 1 0 1 0 1 1 1 0 0 1 1 0 1 0\n",
            " 0 1 1 0 0 1 1 1 1 1 1 1 1 1 0 1 1 0 1 1 1 1 1 1 0 0 0 1 0 1 1 1 1 0 1 0 0\n",
            " 1 0 0 1 0 1 0 0 1 1 1 1 0 1 0 1 0 1 1 0 1 1 1 1 0 0 1 0 1 1 1 1 1 1 1 1 1\n",
            " 1 0 1 0 0 0 0 0 1 1 1 0 1 0 1 1 1 0 0 1 0 1 1 1 1 0 1 0 1 1 1 1 1 0 1 0 1\n",
            " 1 1 1 0 1 1 1 1 1 1 0 0 0 0 1 1 1 1 1 1 1 0 1 1 1 1 1 0 1 1 0 0 1 1 1 1 1\n",
            " 1 1 0 1 0 0 0 1 0 1 1 1 1 0 0 1 1 1 1 1 0 0 0 1 1 0 1 1 1 1 1 1 1 0 1 1 1\n",
            " 1 0 1 1 1 1 1 1 0 1 1]\n"
          ]
        }
      ]
    },
    {
      "cell_type": "code",
      "metadata": {
        "id": "65eff17f"
      },
      "source": [
        "from sklearn.model_selection import train_test_split  \n",
        "x_train, x_test, y_train, y_test= train_test_split(x, y, test_size= 0.2, random_state=0)  "
      ],
      "id": "65eff17f",
      "execution_count": null,
      "outputs": []
    },
    {
      "cell_type": "code",
      "metadata": {
        "id": "c7da4918",
        "outputId": "45bdb214-0db8-418e-8ab3-5bf1caad0118"
      },
      "source": [
        "print(x_train)"
      ],
      "id": "c7da4918",
      "execution_count": null,
      "outputs": [
        {
          "name": "stdout",
          "output_type": "stream",
          "text": [
            "[[31 1 4 ... 0 7 'Absence']\n",
            " [9 1 4 ... 0 3 'Absence']\n",
            " [24 0 4 ... 0 3 'Absence']\n",
            " ...\n",
            " [22 0 4 ... 2 7 'Presence']\n",
            " [10 1 4 ... 1 3 'Presence']\n",
            " [33 1 4 ... 2 3 'Presence']]\n"
          ]
        }
      ]
    },
    {
      "cell_type": "code",
      "metadata": {
        "id": "c6ac4a5e",
        "outputId": "2a13d564-f780-4c98-9f93-8d06daaee345"
      },
      "source": [
        "print(x_test)"
      ],
      "id": "c6ac4a5e",
      "execution_count": null,
      "outputs": [
        {
          "name": "stdout",
          "output_type": "stream",
          "text": [
            "[[29 1 1 145 233 1 2 150 0 2.3 3 0 6 'Absence']\n",
            " [12 0 3 142 177 0 2 160 1 1.4 3 0 3 'Absence']\n",
            " [30 0 4 130 303 0 0 122 0 2.0 2 2 3 'Absence']\n",
            " [36 1 3 160 269 0 0 112 1 2.9 2 1 7 'Presence']\n",
            " [17 1 3 110 175 0 0 123 0 0.6 1 0 3 'Absence']\n",
            " [35 0 1 140 239 0 0 151 0 1.8 1 2 3 'Absence']\n",
            " [20 1 2 192 283 0 2 195 0 0.0 1 1 7 'Presence']\n",
            " [8 1 3 120 240 1 0 194 0 0.8 3 0 7 'Absence']\n",
            " [27 1 3 150 243 1 0 137 1 1.0 2 0 3 'Absence']\n",
            " [37 0 4 112 149 0 0 125 0 1.6 2 0 3 'Absence']\n",
            " [17 0 3 140 308 0 2 142 0 1.5 1 1 3 'Absence']\n",
            " [23 1 4 132 207 0 0 168 1 0.0 1 0 7 'Absence']\n",
            " [20 1 3 125 273 0 2 152 0 0.5 3 1 3 'Absence']\n",
            " [23 1 4 165 289 1 2 124 0 1.0 2 3 7 'Presence']\n",
            " [26 1 4 140 293 0 2 170 0 1.2 2 2 7 'Presence']\n",
            " [16 0 4 110 254 0 2 159 0 0.0 1 0 3 'Absence']\n",
            " [24 1 3 140 211 1 2 165 0 0.0 1 0 3 'Absence']\n",
            " [40 1 4 125 304 0 2 162 1 0.0 1 3 3 'Presence']\n",
            " [28 1 2 120 281 0 2 103 0 1.4 2 1 7 'Presence']\n",
            " [14 1 2 110 229 0 0 168 0 1.0 3 0 7 'Presence']\n",
            " [17 1 4 140 298 0 0 122 1 4.2 2 3 7 'Presence']\n",
            " [7 0 2 105 198 0 0 168 0 0.0 1 1 3 'Absence']\n",
            " [25 1 4 110 239 0 2 142 1 1.2 2 1 7 'Presence']\n",
            " [11 1 4 104 208 0 2 148 1 3.0 2 0 3 'Absence']\n",
            " [10 1 4 112 290 0 2 153 0 0.0 1 1 3 'Presence']\n",
            " [7 1 3 130 214 0 2 168 0 2.0 2 0 3 'Absence']\n",
            " [20 1 4 140 239 0 0 160 0 1.2 1 0 3 'Absence']\n",
            " [33 0 3 152 277 0 0 172 0 0.0 1 1 3 'Absence']\n",
            " [28 0 4 140 394 0 2 157 0 1.2 2 0 3 'Absence']\n",
            " [33 1 4 120 237 0 0 71 0 1.0 2 0 3 'Presence']\n",
            " [32 1 4 120 302 0 2 151 0 0.4 2 0 3 'Absence']\n",
            " [33 0 4 106 223 0 0 142 0 0.3 1 2 3 'Absence']\n",
            " [26 1 4 130 206 0 2 132 1 2.4 2 2 7 'Presence']\n",
            " [7 0 2 130 204 0 2 172 0 1.4 1 0 3 'Absence']\n",
            " [9 0 4 132 341 1 2 136 1 3.0 2 0 7 'Presence']\n",
            " [28 0 3 130 263 0 0 97 0 1.2 2 1 7 'Presence']\n",
            " [20 1 4 124 266 0 2 109 1 2.2 2 1 7 'Presence']\n",
            " [32 0 4 178 228 1 0 165 1 1.0 2 2 7 'Presence']\n",
            " [10 1 2 120 220 0 0 170 0 0.0 1 0 3 'Absence']\n",
            " [7 1 4 110 172 0 2 158 0 0.0 1 0 7 'Presence']\n",
            " [12 1 4 120 249 0 2 144 0 0.8 1 0 7 'Presence']\n",
            " [17 0 3 120 295 0 2 157 0 0.6 1 0 3 'Absence']\n",
            " [17 0 3 130 256 0 2 149 0 0.5 1 0 3 'Absence']\n",
            " [27 0 4 145 307 0 2 146 1 1.0 2 0 7 'Presence']\n",
            " [19 0 4 138 234 0 2 160 0 0.0 1 0 3 'Absence']\n",
            " [25 1 1 160 273 0 2 125 0 0.0 1 0 3 'Presence']\n",
            " [18 1 4 108 233 1 0 147 0 0.1 1 3 7 'Absence']\n",
            " [20 1 3 150 232 0 2 165 0 1.6 1 0 7 'Absence']\n",
            " [33 1 4 120 229 0 2 129 1 2.6 2 2 7 'Presence']\n",
            " [34 1 3 180 274 1 2 150 1 1.6 2 0 7 'Presence']\n",
            " [22 0 4 134 409 0 2 150 1 1.9 2 2 7 'Presence']\n",
            " [24 1 3 105 240 0 2 154 1 0.6 2 0 7 'Absence']\n",
            " [26 0 3 102 318 0 0 160 0 0.0 1 1 3 'Absence']\n",
            " [18 1 4 112 230 0 0 160 0 0.0 1 1 3 'Presence']]\n"
          ]
        }
      ]
    },
    {
      "cell_type": "code",
      "metadata": {
        "id": "bde303a7",
        "outputId": "2fa85779-495e-4b41-f5e2-f37b7bc386e6"
      },
      "source": [
        "print(y_train)"
      ],
      "id": "bde303a7",
      "execution_count": null,
      "outputs": [
        {
          "name": "stdout",
          "output_type": "stream",
          "text": [
            "[1 1 0 0 1 1 0 1 1 1 0 1 1 1 1 0 1 1 1 0 1 0 1 1 1 1 1 1 1 1 1 1 1 0 1 0 1\n",
            " 1 1 1 0 0 1 0 0 0 1 0 1 0 1 1 1 1 0 1 1 1 1 0 1 1 1 1 1 1 0 1 1 1 1 0 0 1\n",
            " 1 1 0 1 0 1 1 1 0 0 0 1 1 0 1 1 1 0 1 0 1 1 0 1 1 0 0 1 0 0 1 0 1 0 1 1 1\n",
            " 1 1 0 1 1 0 1 1 1 1 0 0 1 1 1 1 0 1 1 1 1 1 1 1 1 0 1 1 1 1 0 1 0 1 1 0 1\n",
            " 1 1 1 1 1 1 1 1 1 0 1 1 1 1 1 0 1 1 1 0 1 1 1 0 1 0 1 0 1 1 1 1 0 1 0 0 1\n",
            " 1 0 1 0 0 1 0 1 1 1 0 0 0 1 1 1 0 1 1 0 1 1 0 1 0 0 1 1 0 1 1]\n"
          ]
        }
      ]
    },
    {
      "cell_type": "code",
      "metadata": {
        "id": "15d27781",
        "outputId": "6f20c5e6-22a9-4a07-d963-057461d46c64"
      },
      "source": [
        "print(y_test)"
      ],
      "id": "15d27781",
      "execution_count": null,
      "outputs": [
        {
          "name": "stdout",
          "output_type": "stream",
          "text": [
            "[1 0 0 1 1 0 1 1 1 0 0 1 1 1 1 0 1 1 1 1 1 0 1 1 1 1 1 0 0 1 1 0 1 0 0 0 1\n",
            " 0 1 1 1 0 0 0 0 1 1 1 1 1 0 1 0 1]\n"
          ]
        }
      ]
    },
    {
      "cell_type": "code",
      "metadata": {
        "id": "679f9f80"
      },
      "source": [
        "#To fill in missing values by their sum values\n",
        "data.fillna(data.sum(),inplace=True)"
      ],
      "id": "679f9f80",
      "execution_count": null,
      "outputs": []
    },
    {
      "cell_type": "code",
      "metadata": {
        "id": "9e6e05f1",
        "outputId": "2c8f1063-b967-4643-f090-3372fb7d80f7"
      },
      "source": [
        "print(data)"
      ],
      "id": "9e6e05f1",
      "execution_count": null,
      "outputs": [
        {
          "name": "stdout",
          "output_type": "stream",
          "text": [
            "     Age  Sex  Chest pain type   BP  Cholesterol  FBS over 120  EKG results  \\\n",
            "0     70    1                4  130          322             0            2   \n",
            "1     67    0                3  115          564             0            2   \n",
            "2     57    1                2  124          261             0            0   \n",
            "3     64    1                4  128          263             0            0   \n",
            "4     74    0                2  120          269             0            2   \n",
            "..   ...  ...              ...  ...          ...           ...          ...   \n",
            "265   52    1                3  172          199             1            0   \n",
            "266   44    1                2  120          263             0            0   \n",
            "267   56    0                2  140          294             0            2   \n",
            "268   57    1                4  140          192             0            0   \n",
            "269   67    1                4  160          286             0            2   \n",
            "\n",
            "     Max HR  Exercise angina  ST depression  Slope of ST  \\\n",
            "0       109                0            2.4            2   \n",
            "1       160                0            1.6            2   \n",
            "2       141                0            0.3            1   \n",
            "3       105                1            0.2            2   \n",
            "4       121                1            0.2            1   \n",
            "..      ...              ...            ...          ...   \n",
            "265     162                0            0.5            1   \n",
            "266     173                0            0.0            1   \n",
            "267     153                0            1.3            2   \n",
            "268     148                0            0.4            2   \n",
            "269     108                1            1.5            2   \n",
            "\n",
            "     Number of vessels fluro  Thallium Heart Disease  \n",
            "0                          3         3      Presence  \n",
            "1                          0         7       Absence  \n",
            "2                          0         7      Presence  \n",
            "3                          1         7       Absence  \n",
            "4                          1         3       Absence  \n",
            "..                       ...       ...           ...  \n",
            "265                        0         7       Absence  \n",
            "266                        0         7       Absence  \n",
            "267                        0         3       Absence  \n",
            "268                        0         6       Absence  \n",
            "269                        3         3      Presence  \n",
            "\n",
            "[270 rows x 14 columns]\n"
          ]
        }
      ]
    },
    {
      "cell_type": "code",
      "metadata": {
        "id": "55161bbb",
        "outputId": "6b1a6cad-2955-4732-976d-45495eefa77c"
      },
      "source": [
        "# Checking for the imbalanced data based on BP.\n",
        "data['BP'].value_counts()"
      ],
      "id": "55161bbb",
      "execution_count": null,
      "outputs": [
        {
          "data": {
            "text/plain": [
              "120    34\n",
              "130    31\n",
              "140    30\n",
              "150    17\n",
              "110    17\n",
              "160    11\n",
              "125    10\n",
              "112     9\n",
              "128     9\n",
              "138     9\n",
              "118     7\n",
              "132     6\n",
              "108     6\n",
              "135     6\n",
              "145     5\n",
              "124     5\n",
              "100     4\n",
              "134     4\n",
              "152     4\n",
              "126     3\n",
              "142     3\n",
              "115     3\n",
              "105     3\n",
              "136     3\n",
              "180     3\n",
              "122     3\n",
              "170     2\n",
              "178     2\n",
              "94      2\n",
              "102     2\n",
              "144     1\n",
              "129     1\n",
              "192     1\n",
              "101     1\n",
              "174     1\n",
              "172     1\n",
              "104     1\n",
              "165     1\n",
              "106     1\n",
              "158     1\n",
              "156     1\n",
              "155     1\n",
              "117     1\n",
              "123     1\n",
              "148     1\n",
              "146     1\n",
              "200     1\n",
              "Name: BP, dtype: int64"
            ]
          },
          "execution_count": 23,
          "metadata": {},
          "output_type": "execute_result"
        }
      ]
    },
    {
      "cell_type": "code",
      "metadata": {
        "id": "82e1b69f",
        "outputId": "1c97a43d-1e05-420b-f9e4-4cb0f318ad17"
      },
      "source": [
        "# Checking for the imbalanced data based on Chest pain type.\n",
        "data['Chest pain type'].value_counts()"
      ],
      "id": "82e1b69f",
      "execution_count": null,
      "outputs": [
        {
          "data": {
            "text/plain": [
              "4    129\n",
              "3     79\n",
              "2     42\n",
              "1     20\n",
              "Name: Chest pain type, dtype: int64"
            ]
          },
          "execution_count": 24,
          "metadata": {},
          "output_type": "execute_result"
        }
      ]
    },
    {
      "cell_type": "code",
      "metadata": {
        "id": "45b3210b",
        "outputId": "3da4d860-4fa1-46cf-cc87-738ad1d2dcdf"
      },
      "source": [
        "# Checking for any correlations.\n",
        "data.corr()"
      ],
      "id": "45b3210b",
      "execution_count": null,
      "outputs": [
        {
          "data": {
            "text/html": [
              "<div>\n",
              "<style scoped>\n",
              "    .dataframe tbody tr th:only-of-type {\n",
              "        vertical-align: middle;\n",
              "    }\n",
              "\n",
              "    .dataframe tbody tr th {\n",
              "        vertical-align: top;\n",
              "    }\n",
              "\n",
              "    .dataframe thead th {\n",
              "        text-align: right;\n",
              "    }\n",
              "</style>\n",
              "<table border=\"1\" class=\"dataframe\">\n",
              "  <thead>\n",
              "    <tr style=\"text-align: right;\">\n",
              "      <th></th>\n",
              "      <th>Age</th>\n",
              "      <th>Sex</th>\n",
              "      <th>Chest pain type</th>\n",
              "      <th>BP</th>\n",
              "      <th>Cholesterol</th>\n",
              "      <th>FBS over 120</th>\n",
              "      <th>EKG results</th>\n",
              "      <th>Max HR</th>\n",
              "      <th>Exercise angina</th>\n",
              "      <th>ST depression</th>\n",
              "      <th>Slope of ST</th>\n",
              "      <th>Number of vessels fluro</th>\n",
              "      <th>Thallium</th>\n",
              "    </tr>\n",
              "  </thead>\n",
              "  <tbody>\n",
              "    <tr>\n",
              "      <th>Age</th>\n",
              "      <td>1.000000</td>\n",
              "      <td>-0.094401</td>\n",
              "      <td>0.096920</td>\n",
              "      <td>0.273053</td>\n",
              "      <td>0.220056</td>\n",
              "      <td>0.123458</td>\n",
              "      <td>0.128171</td>\n",
              "      <td>-0.402215</td>\n",
              "      <td>0.098297</td>\n",
              "      <td>0.194234</td>\n",
              "      <td>0.159774</td>\n",
              "      <td>0.356081</td>\n",
              "      <td>0.106100</td>\n",
              "    </tr>\n",
              "    <tr>\n",
              "      <th>Sex</th>\n",
              "      <td>-0.094401</td>\n",
              "      <td>1.000000</td>\n",
              "      <td>0.034636</td>\n",
              "      <td>-0.062693</td>\n",
              "      <td>-0.201647</td>\n",
              "      <td>0.042140</td>\n",
              "      <td>0.039253</td>\n",
              "      <td>-0.076101</td>\n",
              "      <td>0.180022</td>\n",
              "      <td>0.097412</td>\n",
              "      <td>0.050545</td>\n",
              "      <td>0.086830</td>\n",
              "      <td>0.391046</td>\n",
              "    </tr>\n",
              "    <tr>\n",
              "      <th>Chest pain type</th>\n",
              "      <td>0.096920</td>\n",
              "      <td>0.034636</td>\n",
              "      <td>1.000000</td>\n",
              "      <td>-0.043196</td>\n",
              "      <td>0.090465</td>\n",
              "      <td>-0.098537</td>\n",
              "      <td>0.074325</td>\n",
              "      <td>-0.317682</td>\n",
              "      <td>0.353160</td>\n",
              "      <td>0.167244</td>\n",
              "      <td>0.136900</td>\n",
              "      <td>0.225890</td>\n",
              "      <td>0.262659</td>\n",
              "    </tr>\n",
              "    <tr>\n",
              "      <th>BP</th>\n",
              "      <td>0.273053</td>\n",
              "      <td>-0.062693</td>\n",
              "      <td>-0.043196</td>\n",
              "      <td>1.000000</td>\n",
              "      <td>0.173019</td>\n",
              "      <td>0.155681</td>\n",
              "      <td>0.116157</td>\n",
              "      <td>-0.039136</td>\n",
              "      <td>0.082793</td>\n",
              "      <td>0.222800</td>\n",
              "      <td>0.142472</td>\n",
              "      <td>0.085697</td>\n",
              "      <td>0.132045</td>\n",
              "    </tr>\n",
              "    <tr>\n",
              "      <th>Cholesterol</th>\n",
              "      <td>0.220056</td>\n",
              "      <td>-0.201647</td>\n",
              "      <td>0.090465</td>\n",
              "      <td>0.173019</td>\n",
              "      <td>1.000000</td>\n",
              "      <td>0.025186</td>\n",
              "      <td>0.167652</td>\n",
              "      <td>-0.018739</td>\n",
              "      <td>0.078243</td>\n",
              "      <td>0.027709</td>\n",
              "      <td>-0.005755</td>\n",
              "      <td>0.126541</td>\n",
              "      <td>0.028836</td>\n",
              "    </tr>\n",
              "    <tr>\n",
              "      <th>FBS over 120</th>\n",
              "      <td>0.123458</td>\n",
              "      <td>0.042140</td>\n",
              "      <td>-0.098537</td>\n",
              "      <td>0.155681</td>\n",
              "      <td>0.025186</td>\n",
              "      <td>1.000000</td>\n",
              "      <td>0.053499</td>\n",
              "      <td>0.022494</td>\n",
              "      <td>-0.004107</td>\n",
              "      <td>-0.025538</td>\n",
              "      <td>0.044076</td>\n",
              "      <td>0.123774</td>\n",
              "      <td>0.049237</td>\n",
              "    </tr>\n",
              "    <tr>\n",
              "      <th>EKG results</th>\n",
              "      <td>0.128171</td>\n",
              "      <td>0.039253</td>\n",
              "      <td>0.074325</td>\n",
              "      <td>0.116157</td>\n",
              "      <td>0.167652</td>\n",
              "      <td>0.053499</td>\n",
              "      <td>1.000000</td>\n",
              "      <td>-0.074628</td>\n",
              "      <td>0.095098</td>\n",
              "      <td>0.120034</td>\n",
              "      <td>0.160614</td>\n",
              "      <td>0.114368</td>\n",
              "      <td>0.007337</td>\n",
              "    </tr>\n",
              "    <tr>\n",
              "      <th>Max HR</th>\n",
              "      <td>-0.402215</td>\n",
              "      <td>-0.076101</td>\n",
              "      <td>-0.317682</td>\n",
              "      <td>-0.039136</td>\n",
              "      <td>-0.018739</td>\n",
              "      <td>0.022494</td>\n",
              "      <td>-0.074628</td>\n",
              "      <td>1.000000</td>\n",
              "      <td>-0.380719</td>\n",
              "      <td>-0.349045</td>\n",
              "      <td>-0.386847</td>\n",
              "      <td>-0.265333</td>\n",
              "      <td>-0.253397</td>\n",
              "    </tr>\n",
              "    <tr>\n",
              "      <th>Exercise angina</th>\n",
              "      <td>0.098297</td>\n",
              "      <td>0.180022</td>\n",
              "      <td>0.353160</td>\n",
              "      <td>0.082793</td>\n",
              "      <td>0.078243</td>\n",
              "      <td>-0.004107</td>\n",
              "      <td>0.095098</td>\n",
              "      <td>-0.380719</td>\n",
              "      <td>1.000000</td>\n",
              "      <td>0.274672</td>\n",
              "      <td>0.255908</td>\n",
              "      <td>0.153347</td>\n",
              "      <td>0.321449</td>\n",
              "    </tr>\n",
              "    <tr>\n",
              "      <th>ST depression</th>\n",
              "      <td>0.194234</td>\n",
              "      <td>0.097412</td>\n",
              "      <td>0.167244</td>\n",
              "      <td>0.222800</td>\n",
              "      <td>0.027709</td>\n",
              "      <td>-0.025538</td>\n",
              "      <td>0.120034</td>\n",
              "      <td>-0.349045</td>\n",
              "      <td>0.274672</td>\n",
              "      <td>1.000000</td>\n",
              "      <td>0.609712</td>\n",
              "      <td>0.255005</td>\n",
              "      <td>0.324333</td>\n",
              "    </tr>\n",
              "    <tr>\n",
              "      <th>Slope of ST</th>\n",
              "      <td>0.159774</td>\n",
              "      <td>0.050545</td>\n",
              "      <td>0.136900</td>\n",
              "      <td>0.142472</td>\n",
              "      <td>-0.005755</td>\n",
              "      <td>0.044076</td>\n",
              "      <td>0.160614</td>\n",
              "      <td>-0.386847</td>\n",
              "      <td>0.255908</td>\n",
              "      <td>0.609712</td>\n",
              "      <td>1.000000</td>\n",
              "      <td>0.109498</td>\n",
              "      <td>0.283678</td>\n",
              "    </tr>\n",
              "    <tr>\n",
              "      <th>Number of vessels fluro</th>\n",
              "      <td>0.356081</td>\n",
              "      <td>0.086830</td>\n",
              "      <td>0.225890</td>\n",
              "      <td>0.085697</td>\n",
              "      <td>0.126541</td>\n",
              "      <td>0.123774</td>\n",
              "      <td>0.114368</td>\n",
              "      <td>-0.265333</td>\n",
              "      <td>0.153347</td>\n",
              "      <td>0.255005</td>\n",
              "      <td>0.109498</td>\n",
              "      <td>1.000000</td>\n",
              "      <td>0.255648</td>\n",
              "    </tr>\n",
              "    <tr>\n",
              "      <th>Thallium</th>\n",
              "      <td>0.106100</td>\n",
              "      <td>0.391046</td>\n",
              "      <td>0.262659</td>\n",
              "      <td>0.132045</td>\n",
              "      <td>0.028836</td>\n",
              "      <td>0.049237</td>\n",
              "      <td>0.007337</td>\n",
              "      <td>-0.253397</td>\n",
              "      <td>0.321449</td>\n",
              "      <td>0.324333</td>\n",
              "      <td>0.283678</td>\n",
              "      <td>0.255648</td>\n",
              "      <td>1.000000</td>\n",
              "    </tr>\n",
              "  </tbody>\n",
              "</table>\n",
              "</div>"
            ],
            "text/plain": [
              "                              Age       Sex  Chest pain type        BP  \\\n",
              "Age                      1.000000 -0.094401         0.096920  0.273053   \n",
              "Sex                     -0.094401  1.000000         0.034636 -0.062693   \n",
              "Chest pain type          0.096920  0.034636         1.000000 -0.043196   \n",
              "BP                       0.273053 -0.062693        -0.043196  1.000000   \n",
              "Cholesterol              0.220056 -0.201647         0.090465  0.173019   \n",
              "FBS over 120             0.123458  0.042140        -0.098537  0.155681   \n",
              "EKG results              0.128171  0.039253         0.074325  0.116157   \n",
              "Max HR                  -0.402215 -0.076101        -0.317682 -0.039136   \n",
              "Exercise angina          0.098297  0.180022         0.353160  0.082793   \n",
              "ST depression            0.194234  0.097412         0.167244  0.222800   \n",
              "Slope of ST              0.159774  0.050545         0.136900  0.142472   \n",
              "Number of vessels fluro  0.356081  0.086830         0.225890  0.085697   \n",
              "Thallium                 0.106100  0.391046         0.262659  0.132045   \n",
              "\n",
              "                         Cholesterol  FBS over 120  EKG results    Max HR  \\\n",
              "Age                         0.220056      0.123458     0.128171 -0.402215   \n",
              "Sex                        -0.201647      0.042140     0.039253 -0.076101   \n",
              "Chest pain type             0.090465     -0.098537     0.074325 -0.317682   \n",
              "BP                          0.173019      0.155681     0.116157 -0.039136   \n",
              "Cholesterol                 1.000000      0.025186     0.167652 -0.018739   \n",
              "FBS over 120                0.025186      1.000000     0.053499  0.022494   \n",
              "EKG results                 0.167652      0.053499     1.000000 -0.074628   \n",
              "Max HR                     -0.018739      0.022494    -0.074628  1.000000   \n",
              "Exercise angina             0.078243     -0.004107     0.095098 -0.380719   \n",
              "ST depression               0.027709     -0.025538     0.120034 -0.349045   \n",
              "Slope of ST                -0.005755      0.044076     0.160614 -0.386847   \n",
              "Number of vessels fluro     0.126541      0.123774     0.114368 -0.265333   \n",
              "Thallium                    0.028836      0.049237     0.007337 -0.253397   \n",
              "\n",
              "                         Exercise angina  ST depression  Slope of ST  \\\n",
              "Age                             0.098297       0.194234     0.159774   \n",
              "Sex                             0.180022       0.097412     0.050545   \n",
              "Chest pain type                 0.353160       0.167244     0.136900   \n",
              "BP                              0.082793       0.222800     0.142472   \n",
              "Cholesterol                     0.078243       0.027709    -0.005755   \n",
              "FBS over 120                   -0.004107      -0.025538     0.044076   \n",
              "EKG results                     0.095098       0.120034     0.160614   \n",
              "Max HR                         -0.380719      -0.349045    -0.386847   \n",
              "Exercise angina                 1.000000       0.274672     0.255908   \n",
              "ST depression                   0.274672       1.000000     0.609712   \n",
              "Slope of ST                     0.255908       0.609712     1.000000   \n",
              "Number of vessels fluro         0.153347       0.255005     0.109498   \n",
              "Thallium                        0.321449       0.324333     0.283678   \n",
              "\n",
              "                         Number of vessels fluro  Thallium  \n",
              "Age                                     0.356081  0.106100  \n",
              "Sex                                     0.086830  0.391046  \n",
              "Chest pain type                         0.225890  0.262659  \n",
              "BP                                      0.085697  0.132045  \n",
              "Cholesterol                             0.126541  0.028836  \n",
              "FBS over 120                            0.123774  0.049237  \n",
              "EKG results                             0.114368  0.007337  \n",
              "Max HR                                 -0.265333 -0.253397  \n",
              "Exercise angina                         0.153347  0.321449  \n",
              "ST depression                           0.255005  0.324333  \n",
              "Slope of ST                             0.109498  0.283678  \n",
              "Number of vessels fluro                 1.000000  0.255648  \n",
              "Thallium                                0.255648  1.000000  "
            ]
          },
          "execution_count": 25,
          "metadata": {},
          "output_type": "execute_result"
        }
      ]
    },
    {
      "cell_type": "code",
      "metadata": {
        "id": "1c4a1e11",
        "outputId": "5687e416-49d5-4cb5-d562-764e974b8022"
      },
      "source": [
        "# histogram of Exercise angina.\n",
        "data['Exercise angina'].hist(bins=50)"
      ],
      "id": "1c4a1e11",
      "execution_count": null,
      "outputs": [
        {
          "data": {
            "text/plain": [
              "<AxesSubplot:>"
            ]
          },
          "execution_count": 26,
          "metadata": {},
          "output_type": "execute_result"
        },
        {
          "data": {
            "image/png": "[encoded data removed]",
            "text/plain": [
              "<Figure size 432x288 with 1 Axes>"
            ]
          },
          "metadata": {
            "needs_background": "light"
          },
          "output_type": "display_data"
        }
      ]
    },
    {
      "cell_type": "code",
      "metadata": {
        "id": "32d8ae26",
        "outputId": "08dac0be-0053-4fc8-d66b-9d575cb979f5"
      },
      "source": [
        "# bar chart -  distribution of a categorical variable\n",
        "data['Age'].value_counts().plot.bar()"
      ],
      "id": "32d8ae26",
      "execution_count": null,
      "outputs": [
        {
          "data": {
            "text/plain": [
              "<AxesSubplot:>"
            ]
          },
          "execution_count": 28,
          "metadata": {},
          "output_type": "execute_result"
        },
        {
          "data": {
            "image/png": "[encoded data removed]",
            "text/plain": [
              "<Figure size 432x288 with 1 Axes>"
            ]
          },
          "metadata": {
            "needs_background": "light"
          },
          "output_type": "display_data"
        }
      ]
    },
    {
      "cell_type": "code",
      "metadata": {
        "id": "13de4947",
        "outputId": "4b2d9aeb-11cb-40c1-9455-9a608cfc4735"
      },
      "source": [
        "# bar chart -  distribution of a categorical variable\n",
        "data['Cholesterol'].value_counts().plot.bar()"
      ],
      "id": "13de4947",
      "execution_count": null,
      "outputs": [
        {
          "data": {
            "text/plain": [
              "<AxesSubplot:>"
            ]
          },
          "execution_count": 29,
          "metadata": {},
          "output_type": "execute_result"
        },
        {
          "data": {
            "image/png": "[encoded data removed]",
            "text/plain": [
              "<Figure size 432x288 with 1 Axes>"
            ]
          },
          "metadata": {
            "needs_background": "light"
          },
          "output_type": "display_data"
        }
      ]
    },
    {
      "cell_type": "code",
      "metadata": {
        "id": "2c8ebb76",
        "outputId": "90f5a208-1fb6-49b8-da30-c486f01ba714"
      },
      "source": [
        "# Checking for the imbalanced data based on Number of vessels fluro.\n",
        "data['Number of vessels fluro'].value_counts()"
      ],
      "id": "2c8ebb76",
      "execution_count": null,
      "outputs": [
        {
          "data": {
            "text/plain": [
              "0    160\n",
              "1     58\n",
              "2     33\n",
              "3     19\n",
              "Name: Number of vessels fluro, dtype: int64"
            ]
          },
          "execution_count": 30,
          "metadata": {},
          "output_type": "execute_result"
        }
      ]
    },
    {
      "cell_type": "code",
      "metadata": {
        "id": "184abba1",
        "outputId": "31485415-0fca-421c-b6fc-7f338577ced0"
      },
      "source": [
        "# Checking for the missing values.\n",
        "data.isnull().values.any()"
      ],
      "id": "184abba1",
      "execution_count": null,
      "outputs": [
        {
          "data": {
            "text/plain": [
              "False"
            ]
          },
          "execution_count": 31,
          "metadata": {},
          "output_type": "execute_result"
        }
      ]
    },
    {
      "cell_type": "code",
      "metadata": {
        "id": "4cda3dd2",
        "outputId": "ce5aa745-7559-45aa-d04e-52e8a2a4bfef"
      },
      "source": [
        "print(\"The Dataset \\'heart_failure_clinical_records_dataset.csv' is now cleaned\")"
      ],
      "id": "4cda3dd2",
      "execution_count": null,
      "outputs": [
        {
          "name": "stdout",
          "output_type": "stream",
          "text": [
            "The Dataset 'heart_failure_clinical_records_dataset.csv' is now cleaned\n"
          ]
        }
      ]
    },
    {
      "cell_type": "code",
      "metadata": {
        "id": "2fd111f4"
      },
      "source": [
        ""
      ],
      "id": "2fd111f4",
      "execution_count": null,
      "outputs": []
    }
  ]
}