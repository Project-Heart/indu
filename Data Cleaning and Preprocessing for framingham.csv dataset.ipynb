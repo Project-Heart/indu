{
 "cells": [
  {
   "cell_type": "code",
   "execution_count": 1,
   "id": "668dc485",
   "metadata": {},
   "outputs": [
    {
     "name": "stdout",
     "output_type": "stream",
     "text": [
      "Team - 5\n",
      "Project Name - Heart Disease Prediction System.\n",
      "Module - Preprocessing, Data Cleaning and Exploratory Data Analysis.\n",
      "Dataset used - 'framingham.csv'\n"
     ]
    }
   ],
   "source": [
    "print(\"Team - 5\")\n",
    "print(\"Project Name - Heart Disease Prediction System.\")\n",
    "print(\"Module - Preprocessing, Data Cleaning and Exploratory Data Analysis.\")\n",
    "print(\"Dataset used - \\'framingham.csv'\")"
   ]
  },
  {
   "cell_type": "code",
   "execution_count": 2,
   "id": "e3ee1df0",
   "metadata": {},
   "outputs": [],
   "source": [
    "import pandas as pd\n",
    "import numpy as np\n",
    "import matplotlib.pyplot as plt\n",
    "import seaborn as sns\n",
    "from sklearn.preprocessing import StandardScaler\n",
    "from sklearn.metrics import accuracy_score\n",
    "from sklearn.metrics import confusion_matrix\n",
    "from sklearn.metrics import f1_score\n",
    "from sklearn.model_selection import train_test_split\n",
    "import warnings\n",
    "warnings.filterwarnings('ignore')\n",
    "import sklearn.neighbors\n",
    "from sklearn.neighbors import KNeighborsClassifier"
   ]
  },
  {
   "cell_type": "code",
   "execution_count": 3,
   "id": "fee6daf2",
   "metadata": {},
   "outputs": [],
   "source": [
    "import pandas as pd\n",
    "data = pd.read_csv(r\"C:\\Users\\HP\\Downloads/framingham.csv\")"
   ]
  },
  {
   "cell_type": "code",
   "execution_count": 4,
   "id": "db23739f",
   "metadata": {},
   "outputs": [
    {
     "name": "stdout",
     "output_type": "stream",
     "text": [
      "   male  age  education  currentSmoker  cigsPerDay  BPMeds  prevalentStroke  \\\n",
      "0     1   39        4.0              0         0.0     0.0                0   \n",
      "1     0   46        2.0              0         0.0     0.0                0   \n",
      "2     1   48        1.0              1        20.0     0.0                0   \n",
      "3     0   61        3.0              1        30.0     0.0                0   \n",
      "4     0   46        3.0              1        23.0     0.0                0   \n",
      "\n",
      "   prevalentHyp  diabetes  totChol  sysBP  diaBP    BMI  heartRate  glucose  \\\n",
      "0             0         0    195.0  106.0   70.0  26.97       80.0     77.0   \n",
      "1             0         0    250.0  121.0   81.0  28.73       95.0     76.0   \n",
      "2             0         0    245.0  127.5   80.0  25.34       75.0     70.0   \n",
      "3             1         0    225.0  150.0   95.0  28.58       65.0    103.0   \n",
      "4             0         0    285.0  130.0   84.0  23.10       85.0     85.0   \n",
      "\n",
      "   TenYearCHD  \n",
      "0           0  \n",
      "1           0  \n",
      "2           0  \n",
      "3           1  \n",
      "4           0  \n"
     ]
    }
   ],
   "source": [
    "print(data.head())"
   ]
  },
  {
   "cell_type": "code",
   "execution_count": 5,
   "id": "01bd3d80",
   "metadata": {},
   "outputs": [
    {
     "name": "stdout",
     "output_type": "stream",
     "text": [
      "[[  1.  39.   4. ...  80.  77.   0.]\n",
      " [  0.  46.   2. ...  95.  76.   0.]\n",
      " [  1.  48.   1. ...  75.  70.   0.]\n",
      " ...\n",
      " [  0.  48.   2. ...  84.  86.   0.]\n",
      " [  0.  44.   1. ...  86.  nan   0.]\n",
      " [  0.  52.   2. ...  80. 107.   0.]]\n",
      "[ 0.  0.  0. ... nan  0.  0.]\n"
     ]
    }
   ],
   "source": [
    "x=data.iloc[:,0:16].values\n",
    "y=data.iloc[:,5].values\n",
    "print(x)\n",
    "print(y)"
   ]
  },
  {
   "cell_type": "code",
   "execution_count": 6,
   "id": "a1b6dbe3",
   "metadata": {},
   "outputs": [
    {
     "name": "stdout",
     "output_type": "stream",
     "text": [
      "              male          age    education  currentSmoker   cigsPerDay  \\\n",
      "count  4238.000000  4238.000000  4133.000000    4238.000000  4209.000000   \n",
      "mean      0.429212    49.584946     1.978950       0.494101     9.003089   \n",
      "std       0.495022     8.572160     1.019791       0.500024    11.920094   \n",
      "min       0.000000    32.000000     1.000000       0.000000     0.000000   \n",
      "25%       0.000000    42.000000     1.000000       0.000000     0.000000   \n",
      "50%       0.000000    49.000000     2.000000       0.000000     0.000000   \n",
      "75%       1.000000    56.000000     3.000000       1.000000    20.000000   \n",
      "max       1.000000    70.000000     4.000000       1.000000    70.000000   \n",
      "\n",
      "            BPMeds  prevalentStroke  prevalentHyp     diabetes      totChol  \\\n",
      "count  4185.000000      4238.000000   4238.000000  4238.000000  4188.000000   \n",
      "mean      0.029630         0.005899      0.310524     0.025720   236.721585   \n",
      "std       0.169584         0.076587      0.462763     0.158316    44.590334   \n",
      "min       0.000000         0.000000      0.000000     0.000000   107.000000   \n",
      "25%       0.000000         0.000000      0.000000     0.000000   206.000000   \n",
      "50%       0.000000         0.000000      0.000000     0.000000   234.000000   \n",
      "75%       0.000000         0.000000      1.000000     0.000000   263.000000   \n",
      "max       1.000000         1.000000      1.000000     1.000000   696.000000   \n",
      "\n",
      "             sysBP        diaBP          BMI    heartRate      glucose  \\\n",
      "count  4238.000000  4238.000000  4219.000000  4237.000000  3850.000000   \n",
      "mean    132.352407    82.893464    25.802008    75.878924    81.966753   \n",
      "std      22.038097    11.910850     4.080111    12.026596    23.959998   \n",
      "min      83.500000    48.000000    15.540000    44.000000    40.000000   \n",
      "25%     117.000000    75.000000    23.070000    68.000000    71.000000   \n",
      "50%     128.000000    82.000000    25.400000    75.000000    78.000000   \n",
      "75%     144.000000    89.875000    28.040000    83.000000    87.000000   \n",
      "max     295.000000   142.500000    56.800000   143.000000   394.000000   \n",
      "\n",
      "        TenYearCHD  \n",
      "count  4238.000000  \n",
      "mean      0.151958  \n",
      "std       0.359023  \n",
      "min       0.000000  \n",
      "25%       0.000000  \n",
      "50%       0.000000  \n",
      "75%       0.000000  \n",
      "max       1.000000  \n"
     ]
    }
   ],
   "source": [
    "print(data.describe())"
   ]
  },
  {
   "cell_type": "code",
   "execution_count": 7,
   "id": "e81fb3a9",
   "metadata": {},
   "outputs": [
    {
     "name": "stdout",
     "output_type": "stream",
     "text": [
      "(4238, 16)\n"
     ]
    }
   ],
   "source": [
    "print(data.shape)"
   ]
  },
  {
   "cell_type": "code",
   "execution_count": 8,
   "id": "870d55ee",
   "metadata": {},
   "outputs": [
    {
     "data": {
      "text/plain": [
       "True"
      ]
     },
     "execution_count": 8,
     "metadata": {},
     "output_type": "execute_result"
    }
   ],
   "source": [
    "# Checking for the missing values.\n",
    "data.isnull().values.any()"
   ]
  },
  {
   "cell_type": "code",
   "execution_count": 9,
   "id": "45a43af2",
   "metadata": {},
   "outputs": [
    {
     "name": "stdout",
     "output_type": "stream",
     "text": [
      "education     105\n",
      "cigsPerDay     29\n",
      "BPMeds         53\n",
      "totChol        50\n",
      "BMI            19\n",
      "heartRate       1\n",
      "glucose       388\n",
      "dtype: int64\n"
     ]
    }
   ],
   "source": [
    "missing_value_count_by_column=(data.isnull().sum())\n",
    "print(missing_value_count_by_column[missing_value_count_by_column>0])"
   ]
  },
  {
   "cell_type": "code",
   "execution_count": 10,
   "id": "1d8ac176",
   "metadata": {},
   "outputs": [],
   "source": [
    "#Dropping columns with missing values\n",
    "#data_without_missing_values=data.dropna(axis=1)\n",
    "cols_with_missing=[col for col in data.columns if data[col].isnull().any()]\n",
    "reduced_original_data=data.drop(cols_with_missing,axis=1)\n",
    "reduced_test_data=data.drop(cols_with_missing,axis=1)"
   ]
  },
  {
   "cell_type": "code",
   "execution_count": 11,
   "id": "98456117",
   "metadata": {},
   "outputs": [],
   "source": [
    "from sklearn.impute import SimpleImputer\n",
    "my_imputer=SimpleImputer()\n",
    "data_with_imputed_values=my_imputer.fit_transform(data)"
   ]
  },
  {
   "cell_type": "code",
   "execution_count": 12,
   "id": "55c7689b",
   "metadata": {},
   "outputs": [
    {
     "name": "stdout",
     "output_type": "stream",
     "text": [
      "[[  1.  39.   4. ...  80.  77.   0.]\n",
      " [  0.  46.   2. ...  95.  76.   0.]\n",
      " [  1.  48.   1. ...  75.  70.   0.]\n",
      " ...\n",
      " [  0.  48.   2. ...  84.  86.   0.]\n",
      " [  0.  44.   1. ...  86.  nan   0.]\n",
      " [  0.  52.   2. ...  80. 107.   0.]]\n"
     ]
    }
   ],
   "source": [
    "#Catgorical data  \n",
    "#for Country Variable  \n",
    "from sklearn.preprocessing import LabelEncoder  \n",
    "label_encoder_x= LabelEncoder()  \n",
    "x[:, 0]= label_encoder_x.fit_transform(x[:, 0]) \n",
    "print(x)"
   ]
  },
  {
   "cell_type": "code",
   "execution_count": 13,
   "id": "8531c578",
   "metadata": {},
   "outputs": [
    {
     "name": "stdout",
     "output_type": "stream",
     "text": [
      "[0 0 0 ... 2 0 0]\n"
     ]
    }
   ],
   "source": [
    "labelencoder_y= LabelEncoder()  \n",
    "y= labelencoder_y.fit_transform(y)  \n",
    "print(y)"
   ]
  },
  {
   "cell_type": "code",
   "execution_count": 14,
   "id": "98c5c46e",
   "metadata": {},
   "outputs": [],
   "source": [
    "from sklearn.model_selection import train_test_split  \n",
    "x_train, x_test, y_train, y_test= train_test_split(x, y, test_size= 0.2, random_state=0)  "
   ]
  },
  {
   "cell_type": "code",
   "execution_count": 15,
   "id": "545de6cf",
   "metadata": {},
   "outputs": [
    {
     "name": "stdout",
     "output_type": "stream",
     "text": [
      "[[  1.  63.   1. ...  75. 120.   0.]\n",
      " [  1.  52.   1. ...  66.  77.   0.]\n",
      " [  1.  38.   2. ...  76.  75.   0.]\n",
      " ...\n",
      " [  1.  39.   3. ...  70.  81.   0.]\n",
      " [  0.  57.   1. ...  75.  81.   0.]\n",
      " [  0.  40.   2. ...  75.  73.   0.]]\n"
     ]
    }
   ],
   "source": [
    "print(x_train)"
   ]
  },
  {
   "cell_type": "code",
   "execution_count": 16,
   "id": "5d516235",
   "metadata": {},
   "outputs": [
    {
     "name": "stdout",
     "output_type": "stream",
     "text": [
      "[[  0.  47.   1. ...  75.  62.   0.]\n",
      " [  0.  58.   2. ...  60.  73.   0.]\n",
      " [  0.  61.   2. ...  57.  78.   0.]\n",
      " ...\n",
      " [  1.  50.   3. ...  88.  77.   0.]\n",
      " [  1.  45.   4. ...  83. 105.   0.]\n",
      " [  0.  50.   1. ...  63.  75.   0.]]\n"
     ]
    }
   ],
   "source": [
    "print(x_test)"
   ]
  },
  {
   "cell_type": "code",
   "execution_count": 17,
   "id": "21e91da7",
   "metadata": {},
   "outputs": [
    {
     "name": "stdout",
     "output_type": "stream",
     "text": [
      "[0 0 0 ... 0 0 0]\n"
     ]
    }
   ],
   "source": [
    "print(y_train)"
   ]
  },
  {
   "cell_type": "code",
   "execution_count": 18,
   "id": "b6ea260c",
   "metadata": {},
   "outputs": [
    {
     "name": "stdout",
     "output_type": "stream",
     "text": [
      "[0 0 0 0 0 0 0 0 0 0 0 0 0 0 0 0 0 0 0 0 0 0 0 0 0 0 0 0 0 0 0 0 0 0 0 0 0\n",
      " 0 0 0 0 0 0 0 0 0 0 0 0 0 0 0 0 0 0 0 0 0 0 0 0 0 0 0 0 0 0 0 0 0 0 0 0 0\n",
      " 0 0 0 0 0 0 0 0 0 0 0 0 0 0 0 0 0 0 0 0 0 0 0 0 0 0 0 0 0 0 0 0 0 0 0 0 0\n",
      " 0 0 1 0 0 0 0 0 0 0 0 0 0 0 0 0 0 0 0 0 0 0 0 0 0 0 0 0 0 0 0 0 0 1 0 0 0\n",
      " 0 0 0 0 0 0 0 0 0 0 0 0 0 0 0 0 1 0 0 0 0 0 0 0 0 0 0 0 0 0 0 0 0 0 0 0 0\n",
      " 0 0 0 2 0 0 0 0 0 0 0 0 0 0 0 0 0 0 0 0 0 0 0 0 0 0 0 0 0 0 0 0 0 0 0 0 0\n",
      " 0 2 1 1 0 0 0 0 0 0 0 0 0 0 0 0 0 0 0 0 1 0 0 0 0 0 0 0 0 0 0 0 0 0 0 0 0\n",
      " 0 0 0 0 0 0 2 0 0 0 0 0 0 0 0 0 0 0 0 0 0 0 0 0 0 0 0 0 0 0 0 0 0 0 0 1 0\n",
      " 0 0 0 0 0 0 0 0 0 0 0 0 0 0 0 2 0 0 0 0 0 0 0 0 1 0 0 0 0 1 0 0 0 0 0 0 0\n",
      " 0 0 0 0 0 0 0 0 0 0 0 0 0 0 0 0 0 0 0 0 0 0 0 0 0 0 0 0 0 0 1 0 0 0 0 0 0\n",
      " 0 0 0 0 0 0 0 0 0 0 0 0 0 0 1 0 0 0 0 0 0 0 0 0 0 0 1 0 0 0 0 0 0 0 0 0 0\n",
      " 0 0 0 0 0 0 0 0 0 0 0 0 0 0 1 0 0 0 0 0 0 0 0 0 0 1 0 0 0 0 0 0 0 0 0 0 0\n",
      " 0 0 0 0 0 0 0 0 0 0 0 0 0 0 0 0 0 0 0 0 0 0 0 0 0 0 0 0 0 0 0 0 0 0 0 0 0\n",
      " 0 0 0 0 0 0 0 0 0 0 0 0 0 0 0 0 0 0 0 0 0 0 0 0 0 0 0 2 0 0 0 0 0 0 0 0 0\n",
      " 0 0 0 0 0 0 0 0 0 0 0 1 0 0 0 0 0 0 0 0 0 0 0 0 0 0 0 0 0 0 0 0 0 0 0 0 0\n",
      " 0 0 0 0 0 0 0 0 0 0 0 0 1 0 0 0 0 0 0 0 0 0 0 0 0 2 0 0 0 0 0 0 0 0 0 0 0\n",
      " 0 0 0 0 0 0 0 0 0 0 1 0 0 0 0 0 2 1 1 0 0 0 0 0 0 0 0 0 0 0 0 0 0 0 0 0 0\n",
      " 2 0 0 0 0 0 0 0 0 0 0 0 1 0 0 0 0 0 0 0 0 0 0 0 0 0 0 0 0 0 0 0 2 0 0 0 0\n",
      " 0 0 0 0 0 0 0 0 0 0 0 0 0 0 0 0 0 0 0 0 0 0 0 0 0 0 0 0 0 0 0 0 0 0 0 0 0\n",
      " 0 0 1 0 0 0 0 0 0 0 0 0 0 0 0 0 0 0 0 0 0 0 0 0 0 0 0 0 0 0 0 0 0 0 0 0 0\n",
      " 2 0 0 0 0 0 0 0 0 0 0 0 0 0 0 0 0 0 0 0 0 0 0 0 0 0 0 0 1 0 0 0 1 0 0 0 1\n",
      " 0 0 0 0 0 0 0 0 0 0 1 0 0 0 0 0 0 0 0 0 0 0 0 0 0 0 0 0 0 0 0 0 0 0 0 0 0\n",
      " 0 0 0 0 0 0 0 0 0 0 0 0 0 0 0 0 0 0 0 0 0 0 1 0 0 0 0 1 1 2 0 0 0 0]\n"
     ]
    }
   ],
   "source": [
    "print(y_test)"
   ]
  },
  {
   "cell_type": "code",
   "execution_count": 19,
   "id": "c7e1149f",
   "metadata": {},
   "outputs": [],
   "source": [
    "#To fill in missing values by their mean values\n",
    "data.fillna(data.mean(),inplace=True)"
   ]
  },
  {
   "cell_type": "code",
   "execution_count": 20,
   "id": "dbf87887",
   "metadata": {},
   "outputs": [
    {
     "name": "stdout",
     "output_type": "stream",
     "text": [
      "      male  age  education  currentSmoker  cigsPerDay   BPMeds  \\\n",
      "0        1   39        4.0              0         0.0  0.00000   \n",
      "1        0   46        2.0              0         0.0  0.00000   \n",
      "2        1   48        1.0              1        20.0  0.00000   \n",
      "3        0   61        3.0              1        30.0  0.00000   \n",
      "4        0   46        3.0              1        23.0  0.00000   \n",
      "...    ...  ...        ...            ...         ...      ...   \n",
      "4233     1   50        1.0              1         1.0  0.00000   \n",
      "4234     1   51        3.0              1        43.0  0.00000   \n",
      "4235     0   48        2.0              1        20.0  0.02963   \n",
      "4236     0   44        1.0              1        15.0  0.00000   \n",
      "4237     0   52        2.0              0         0.0  0.00000   \n",
      "\n",
      "      prevalentStroke  prevalentHyp  diabetes  totChol  sysBP  diaBP    BMI  \\\n",
      "0                   0             0         0    195.0  106.0   70.0  26.97   \n",
      "1                   0             0         0    250.0  121.0   81.0  28.73   \n",
      "2                   0             0         0    245.0  127.5   80.0  25.34   \n",
      "3                   0             1         0    225.0  150.0   95.0  28.58   \n",
      "4                   0             0         0    285.0  130.0   84.0  23.10   \n",
      "...               ...           ...       ...      ...    ...    ...    ...   \n",
      "4233                0             1         0    313.0  179.0   92.0  25.97   \n",
      "4234                0             0         0    207.0  126.5   80.0  19.71   \n",
      "4235                0             0         0    248.0  131.0   72.0  22.00   \n",
      "4236                0             0         0    210.0  126.5   87.0  19.16   \n",
      "4237                0             0         0    269.0  133.5   83.0  21.47   \n",
      "\n",
      "      heartRate     glucose  TenYearCHD  \n",
      "0          80.0   77.000000           0  \n",
      "1          95.0   76.000000           0  \n",
      "2          75.0   70.000000           0  \n",
      "3          65.0  103.000000           1  \n",
      "4          85.0   85.000000           0  \n",
      "...         ...         ...         ...  \n",
      "4233       66.0   86.000000           1  \n",
      "4234       65.0   68.000000           0  \n",
      "4235       84.0   86.000000           0  \n",
      "4236       86.0   81.966753           0  \n",
      "4237       80.0  107.000000           0  \n",
      "\n",
      "[4238 rows x 16 columns]\n"
     ]
    }
   ],
   "source": [
    "print(data)"
   ]
  },
  {
   "cell_type": "code",
   "execution_count": 21,
   "id": "21695254",
   "metadata": {},
   "outputs": [
    {
     "data": {
      "text/plain": [
       "40    191\n",
       "46    182\n",
       "42    180\n",
       "41    174\n",
       "48    173\n",
       "39    169\n",
       "44    166\n",
       "45    162\n",
       "43    159\n",
       "52    149\n",
       "51    146\n",
       "55    145\n",
       "38    144\n",
       "47    141\n",
       "50    140\n",
       "53    139\n",
       "49    132\n",
       "54    132\n",
       "56    123\n",
       "57    123\n",
       "59    119\n",
       "58    117\n",
       "60    111\n",
       "61    110\n",
       "63    110\n",
       "62     99\n",
       "64     93\n",
       "37     92\n",
       "36     84\n",
       "65     57\n",
       "67     45\n",
       "35     42\n",
       "66     38\n",
       "34     18\n",
       "68     18\n",
       "69      7\n",
       "33      5\n",
       "70      2\n",
       "32      1\n",
       "Name: age, dtype: int64"
      ]
     },
     "execution_count": 21,
     "metadata": {},
     "output_type": "execute_result"
    }
   ],
   "source": [
    "# Checking for the imbalanced data based on age.\n",
    "data['age'].value_counts()"
   ]
  },
  {
   "cell_type": "code",
   "execution_count": 22,
   "id": "ef3081ca",
   "metadata": {},
   "outputs": [
    {
     "data": {
      "text/html": [
       "<div>\n",
       "<style scoped>\n",
       "    .dataframe tbody tr th:only-of-type {\n",
       "        vertical-align: middle;\n",
       "    }\n",
       "\n",
       "    .dataframe tbody tr th {\n",
       "        vertical-align: top;\n",
       "    }\n",
       "\n",
       "    .dataframe thead th {\n",
       "        text-align: right;\n",
       "    }\n",
       "</style>\n",
       "<table border=\"1\" class=\"dataframe\">\n",
       "  <thead>\n",
       "    <tr style=\"text-align: right;\">\n",
       "      <th></th>\n",
       "      <th>male</th>\n",
       "      <th>age</th>\n",
       "      <th>education</th>\n",
       "      <th>currentSmoker</th>\n",
       "      <th>cigsPerDay</th>\n",
       "      <th>BPMeds</th>\n",
       "      <th>prevalentStroke</th>\n",
       "      <th>prevalentHyp</th>\n",
       "      <th>diabetes</th>\n",
       "      <th>totChol</th>\n",
       "      <th>sysBP</th>\n",
       "      <th>diaBP</th>\n",
       "      <th>BMI</th>\n",
       "      <th>heartRate</th>\n",
       "      <th>glucose</th>\n",
       "      <th>TenYearCHD</th>\n",
       "    </tr>\n",
       "  </thead>\n",
       "  <tbody>\n",
       "    <tr>\n",
       "      <th>male</th>\n",
       "      <td>1.000000</td>\n",
       "      <td>-0.028979</td>\n",
       "      <td>0.017126</td>\n",
       "      <td>0.197596</td>\n",
       "      <td>0.316807</td>\n",
       "      <td>-0.052204</td>\n",
       "      <td>-0.004546</td>\n",
       "      <td>0.005313</td>\n",
       "      <td>0.015708</td>\n",
       "      <td>-0.069974</td>\n",
       "      <td>-0.035989</td>\n",
       "      <td>0.057933</td>\n",
       "      <td>0.081506</td>\n",
       "      <td>-0.116601</td>\n",
       "      <td>0.005818</td>\n",
       "      <td>0.088428</td>\n",
       "    </tr>\n",
       "    <tr>\n",
       "      <th>age</th>\n",
       "      <td>-0.028979</td>\n",
       "      <td>1.000000</td>\n",
       "      <td>-0.163613</td>\n",
       "      <td>-0.213748</td>\n",
       "      <td>-0.192366</td>\n",
       "      <td>0.121980</td>\n",
       "      <td>0.057655</td>\n",
       "      <td>0.307194</td>\n",
       "      <td>0.101258</td>\n",
       "      <td>0.260270</td>\n",
       "      <td>0.394302</td>\n",
       "      <td>0.206104</td>\n",
       "      <td>0.135283</td>\n",
       "      <td>-0.012819</td>\n",
       "      <td>0.116850</td>\n",
       "      <td>0.225256</td>\n",
       "    </tr>\n",
       "    <tr>\n",
       "      <th>education</th>\n",
       "      <td>0.017126</td>\n",
       "      <td>-0.163613</td>\n",
       "      <td>1.000000</td>\n",
       "      <td>0.018301</td>\n",
       "      <td>0.007962</td>\n",
       "      <td>-0.010607</td>\n",
       "      <td>-0.035110</td>\n",
       "      <td>-0.080993</td>\n",
       "      <td>-0.038146</td>\n",
       "      <td>-0.022507</td>\n",
       "      <td>-0.128260</td>\n",
       "      <td>-0.061755</td>\n",
       "      <td>-0.135635</td>\n",
       "      <td>-0.053626</td>\n",
       "      <td>-0.033721</td>\n",
       "      <td>-0.053384</td>\n",
       "    </tr>\n",
       "    <tr>\n",
       "      <th>currentSmoker</th>\n",
       "      <td>0.197596</td>\n",
       "      <td>-0.213748</td>\n",
       "      <td>0.018301</td>\n",
       "      <td>1.000000</td>\n",
       "      <td>0.766970</td>\n",
       "      <td>-0.048632</td>\n",
       "      <td>-0.032988</td>\n",
       "      <td>-0.103260</td>\n",
       "      <td>-0.044295</td>\n",
       "      <td>-0.046285</td>\n",
       "      <td>-0.130230</td>\n",
       "      <td>-0.107746</td>\n",
       "      <td>-0.167276</td>\n",
       "      <td>0.062348</td>\n",
       "      <td>-0.054157</td>\n",
       "      <td>0.019456</td>\n",
       "    </tr>\n",
       "    <tr>\n",
       "      <th>cigsPerDay</th>\n",
       "      <td>0.316807</td>\n",
       "      <td>-0.192366</td>\n",
       "      <td>0.007962</td>\n",
       "      <td>0.766970</td>\n",
       "      <td>1.000000</td>\n",
       "      <td>-0.045826</td>\n",
       "      <td>-0.032706</td>\n",
       "      <td>-0.065947</td>\n",
       "      <td>-0.037063</td>\n",
       "      <td>-0.026025</td>\n",
       "      <td>-0.088505</td>\n",
       "      <td>-0.056391</td>\n",
       "      <td>-0.092453</td>\n",
       "      <td>0.074851</td>\n",
       "      <td>-0.056088</td>\n",
       "      <td>0.057775</td>\n",
       "    </tr>\n",
       "    <tr>\n",
       "      <th>BPMeds</th>\n",
       "      <td>-0.052204</td>\n",
       "      <td>0.121980</td>\n",
       "      <td>-0.010607</td>\n",
       "      <td>-0.048632</td>\n",
       "      <td>-0.045826</td>\n",
       "      <td>1.000000</td>\n",
       "      <td>0.115003</td>\n",
       "      <td>0.259243</td>\n",
       "      <td>0.051571</td>\n",
       "      <td>0.078909</td>\n",
       "      <td>0.252047</td>\n",
       "      <td>0.192490</td>\n",
       "      <td>0.099552</td>\n",
       "      <td>0.015175</td>\n",
       "      <td>0.048905</td>\n",
       "      <td>0.086774</td>\n",
       "    </tr>\n",
       "    <tr>\n",
       "      <th>prevalentStroke</th>\n",
       "      <td>-0.004546</td>\n",
       "      <td>0.057655</td>\n",
       "      <td>-0.035110</td>\n",
       "      <td>-0.032988</td>\n",
       "      <td>-0.032706</td>\n",
       "      <td>0.115003</td>\n",
       "      <td>1.000000</td>\n",
       "      <td>0.074830</td>\n",
       "      <td>0.006949</td>\n",
       "      <td>0.000067</td>\n",
       "      <td>0.057009</td>\n",
       "      <td>0.045190</td>\n",
       "      <td>0.024840</td>\n",
       "      <td>-0.017676</td>\n",
       "      <td>0.018055</td>\n",
       "      <td>0.061810</td>\n",
       "    </tr>\n",
       "    <tr>\n",
       "      <th>prevalentHyp</th>\n",
       "      <td>0.005313</td>\n",
       "      <td>0.307194</td>\n",
       "      <td>-0.080993</td>\n",
       "      <td>-0.103260</td>\n",
       "      <td>-0.065947</td>\n",
       "      <td>0.259243</td>\n",
       "      <td>0.074830</td>\n",
       "      <td>1.000000</td>\n",
       "      <td>0.077808</td>\n",
       "      <td>0.163041</td>\n",
       "      <td>0.696755</td>\n",
       "      <td>0.615751</td>\n",
       "      <td>0.300572</td>\n",
       "      <td>0.147222</td>\n",
       "      <td>0.082924</td>\n",
       "      <td>0.177603</td>\n",
       "    </tr>\n",
       "    <tr>\n",
       "      <th>diabetes</th>\n",
       "      <td>0.015708</td>\n",
       "      <td>0.101258</td>\n",
       "      <td>-0.038146</td>\n",
       "      <td>-0.044295</td>\n",
       "      <td>-0.037063</td>\n",
       "      <td>0.051571</td>\n",
       "      <td>0.006949</td>\n",
       "      <td>0.077808</td>\n",
       "      <td>1.000000</td>\n",
       "      <td>0.040092</td>\n",
       "      <td>0.111283</td>\n",
       "      <td>0.050329</td>\n",
       "      <td>0.086250</td>\n",
       "      <td>0.048993</td>\n",
       "      <td>0.605705</td>\n",
       "      <td>0.097317</td>\n",
       "    </tr>\n",
       "    <tr>\n",
       "      <th>totChol</th>\n",
       "      <td>-0.069974</td>\n",
       "      <td>0.260270</td>\n",
       "      <td>-0.022507</td>\n",
       "      <td>-0.046285</td>\n",
       "      <td>-0.026025</td>\n",
       "      <td>0.078909</td>\n",
       "      <td>0.000067</td>\n",
       "      <td>0.163041</td>\n",
       "      <td>0.040092</td>\n",
       "      <td>1.000000</td>\n",
       "      <td>0.207609</td>\n",
       "      <td>0.163903</td>\n",
       "      <td>0.114789</td>\n",
       "      <td>0.090676</td>\n",
       "      <td>0.044583</td>\n",
       "      <td>0.081624</td>\n",
       "    </tr>\n",
       "    <tr>\n",
       "      <th>sysBP</th>\n",
       "      <td>-0.035989</td>\n",
       "      <td>0.394302</td>\n",
       "      <td>-0.128260</td>\n",
       "      <td>-0.130230</td>\n",
       "      <td>-0.088505</td>\n",
       "      <td>0.252047</td>\n",
       "      <td>0.057009</td>\n",
       "      <td>0.696755</td>\n",
       "      <td>0.111283</td>\n",
       "      <td>0.207609</td>\n",
       "      <td>1.000000</td>\n",
       "      <td>0.784002</td>\n",
       "      <td>0.325247</td>\n",
       "      <td>0.182174</td>\n",
       "      <td>0.134608</td>\n",
       "      <td>0.216429</td>\n",
       "    </tr>\n",
       "    <tr>\n",
       "      <th>diaBP</th>\n",
       "      <td>0.057933</td>\n",
       "      <td>0.206104</td>\n",
       "      <td>-0.061755</td>\n",
       "      <td>-0.107746</td>\n",
       "      <td>-0.056391</td>\n",
       "      <td>0.192490</td>\n",
       "      <td>0.045190</td>\n",
       "      <td>0.615751</td>\n",
       "      <td>0.050329</td>\n",
       "      <td>0.163903</td>\n",
       "      <td>0.784002</td>\n",
       "      <td>1.000000</td>\n",
       "      <td>0.376544</td>\n",
       "      <td>0.181246</td>\n",
       "      <td>0.058647</td>\n",
       "      <td>0.145299</td>\n",
       "    </tr>\n",
       "    <tr>\n",
       "      <th>BMI</th>\n",
       "      <td>0.081506</td>\n",
       "      <td>0.135283</td>\n",
       "      <td>-0.135635</td>\n",
       "      <td>-0.167276</td>\n",
       "      <td>-0.092453</td>\n",
       "      <td>0.099552</td>\n",
       "      <td>0.024840</td>\n",
       "      <td>0.300572</td>\n",
       "      <td>0.086250</td>\n",
       "      <td>0.114789</td>\n",
       "      <td>0.325247</td>\n",
       "      <td>0.376544</td>\n",
       "      <td>1.000000</td>\n",
       "      <td>0.067544</td>\n",
       "      <td>0.082109</td>\n",
       "      <td>0.074680</td>\n",
       "    </tr>\n",
       "    <tr>\n",
       "      <th>heartRate</th>\n",
       "      <td>-0.116601</td>\n",
       "      <td>-0.012819</td>\n",
       "      <td>-0.053626</td>\n",
       "      <td>0.062348</td>\n",
       "      <td>0.074851</td>\n",
       "      <td>0.015175</td>\n",
       "      <td>-0.017676</td>\n",
       "      <td>0.147222</td>\n",
       "      <td>0.048993</td>\n",
       "      <td>0.090676</td>\n",
       "      <td>0.182174</td>\n",
       "      <td>0.181246</td>\n",
       "      <td>0.067544</td>\n",
       "      <td>1.000000</td>\n",
       "      <td>0.089341</td>\n",
       "      <td>0.022898</td>\n",
       "    </tr>\n",
       "    <tr>\n",
       "      <th>glucose</th>\n",
       "      <td>0.005818</td>\n",
       "      <td>0.116850</td>\n",
       "      <td>-0.033721</td>\n",
       "      <td>-0.054157</td>\n",
       "      <td>-0.056088</td>\n",
       "      <td>0.048905</td>\n",
       "      <td>0.018055</td>\n",
       "      <td>0.082924</td>\n",
       "      <td>0.605705</td>\n",
       "      <td>0.044583</td>\n",
       "      <td>0.134608</td>\n",
       "      <td>0.058647</td>\n",
       "      <td>0.082109</td>\n",
       "      <td>0.089341</td>\n",
       "      <td>1.000000</td>\n",
       "      <td>0.120406</td>\n",
       "    </tr>\n",
       "    <tr>\n",
       "      <th>TenYearCHD</th>\n",
       "      <td>0.088428</td>\n",
       "      <td>0.225256</td>\n",
       "      <td>-0.053384</td>\n",
       "      <td>0.019456</td>\n",
       "      <td>0.057775</td>\n",
       "      <td>0.086774</td>\n",
       "      <td>0.061810</td>\n",
       "      <td>0.177603</td>\n",
       "      <td>0.097317</td>\n",
       "      <td>0.081624</td>\n",
       "      <td>0.216429</td>\n",
       "      <td>0.145299</td>\n",
       "      <td>0.074680</td>\n",
       "      <td>0.022898</td>\n",
       "      <td>0.120406</td>\n",
       "      <td>1.000000</td>\n",
       "    </tr>\n",
       "  </tbody>\n",
       "</table>\n",
       "</div>"
      ],
      "text/plain": [
       "                     male       age  education  currentSmoker  cigsPerDay  \\\n",
       "male             1.000000 -0.028979   0.017126       0.197596    0.316807   \n",
       "age             -0.028979  1.000000  -0.163613      -0.213748   -0.192366   \n",
       "education        0.017126 -0.163613   1.000000       0.018301    0.007962   \n",
       "currentSmoker    0.197596 -0.213748   0.018301       1.000000    0.766970   \n",
       "cigsPerDay       0.316807 -0.192366   0.007962       0.766970    1.000000   \n",
       "BPMeds          -0.052204  0.121980  -0.010607      -0.048632   -0.045826   \n",
       "prevalentStroke -0.004546  0.057655  -0.035110      -0.032988   -0.032706   \n",
       "prevalentHyp     0.005313  0.307194  -0.080993      -0.103260   -0.065947   \n",
       "diabetes         0.015708  0.101258  -0.038146      -0.044295   -0.037063   \n",
       "totChol         -0.069974  0.260270  -0.022507      -0.046285   -0.026025   \n",
       "sysBP           -0.035989  0.394302  -0.128260      -0.130230   -0.088505   \n",
       "diaBP            0.057933  0.206104  -0.061755      -0.107746   -0.056391   \n",
       "BMI              0.081506  0.135283  -0.135635      -0.167276   -0.092453   \n",
       "heartRate       -0.116601 -0.012819  -0.053626       0.062348    0.074851   \n",
       "glucose          0.005818  0.116850  -0.033721      -0.054157   -0.056088   \n",
       "TenYearCHD       0.088428  0.225256  -0.053384       0.019456    0.057775   \n",
       "\n",
       "                   BPMeds  prevalentStroke  prevalentHyp  diabetes   totChol  \\\n",
       "male            -0.052204        -0.004546      0.005313  0.015708 -0.069974   \n",
       "age              0.121980         0.057655      0.307194  0.101258  0.260270   \n",
       "education       -0.010607        -0.035110     -0.080993 -0.038146 -0.022507   \n",
       "currentSmoker   -0.048632        -0.032988     -0.103260 -0.044295 -0.046285   \n",
       "cigsPerDay      -0.045826        -0.032706     -0.065947 -0.037063 -0.026025   \n",
       "BPMeds           1.000000         0.115003      0.259243  0.051571  0.078909   \n",
       "prevalentStroke  0.115003         1.000000      0.074830  0.006949  0.000067   \n",
       "prevalentHyp     0.259243         0.074830      1.000000  0.077808  0.163041   \n",
       "diabetes         0.051571         0.006949      0.077808  1.000000  0.040092   \n",
       "totChol          0.078909         0.000067      0.163041  0.040092  1.000000   \n",
       "sysBP            0.252047         0.057009      0.696755  0.111283  0.207609   \n",
       "diaBP            0.192490         0.045190      0.615751  0.050329  0.163903   \n",
       "BMI              0.099552         0.024840      0.300572  0.086250  0.114789   \n",
       "heartRate        0.015175        -0.017676      0.147222  0.048993  0.090676   \n",
       "glucose          0.048905         0.018055      0.082924  0.605705  0.044583   \n",
       "TenYearCHD       0.086774         0.061810      0.177603  0.097317  0.081624   \n",
       "\n",
       "                    sysBP     diaBP       BMI  heartRate   glucose  TenYearCHD  \n",
       "male            -0.035989  0.057933  0.081506  -0.116601  0.005818    0.088428  \n",
       "age              0.394302  0.206104  0.135283  -0.012819  0.116850    0.225256  \n",
       "education       -0.128260 -0.061755 -0.135635  -0.053626 -0.033721   -0.053384  \n",
       "currentSmoker   -0.130230 -0.107746 -0.167276   0.062348 -0.054157    0.019456  \n",
       "cigsPerDay      -0.088505 -0.056391 -0.092453   0.074851 -0.056088    0.057775  \n",
       "BPMeds           0.252047  0.192490  0.099552   0.015175  0.048905    0.086774  \n",
       "prevalentStroke  0.057009  0.045190  0.024840  -0.017676  0.018055    0.061810  \n",
       "prevalentHyp     0.696755  0.615751  0.300572   0.147222  0.082924    0.177603  \n",
       "diabetes         0.111283  0.050329  0.086250   0.048993  0.605705    0.097317  \n",
       "totChol          0.207609  0.163903  0.114789   0.090676  0.044583    0.081624  \n",
       "sysBP            1.000000  0.784002  0.325247   0.182174  0.134608    0.216429  \n",
       "diaBP            0.784002  1.000000  0.376544   0.181246  0.058647    0.145299  \n",
       "BMI              0.325247  0.376544  1.000000   0.067544  0.082109    0.074680  \n",
       "heartRate        0.182174  0.181246  0.067544   1.000000  0.089341    0.022898  \n",
       "glucose          0.134608  0.058647  0.082109   0.089341  1.000000    0.120406  \n",
       "TenYearCHD       0.216429  0.145299  0.074680   0.022898  0.120406    1.000000  "
      ]
     },
     "execution_count": 22,
     "metadata": {},
     "output_type": "execute_result"
    }
   ],
   "source": [
    "# Checking for any correlations.\n",
    "data.corr()"
   ]
  },
  {
   "cell_type": "code",
   "execution_count": 23,
   "id": "dd4e10b4",
   "metadata": {},
   "outputs": [
    {
     "data": {
      "text/plain": [
       "<AxesSubplot:>"
      ]
     },
     "execution_count": 23,
     "metadata": {},
     "output_type": "execute_result"
    },
    {
     "data": {
      "image/png": "[encoded data removed]",
      "text/plain": [
       "<Figure size 432x288 with 1 Axes>"
      ]
     },
     "metadata": {
      "needs_background": "light"
     },
     "output_type": "display_data"
    }
   ],
   "source": [
    "# histogram of age.\n",
    "data['age'].hist(bins=50)"
   ]
  },
  {
   "cell_type": "code",
   "execution_count": 29,
   "id": "9450ff02",
   "metadata": {},
   "outputs": [
    {
     "data": {
      "text/plain": [
       "<AxesSubplot:>"
      ]
     },
     "execution_count": 29,
     "metadata": {},
     "output_type": "execute_result"
    },
    {
     "data": {
      "image/png": "[encoded data removed]",
      "text/plain": [
       "<Figure size 432x288 with 1 Axes>"
      ]
     },
     "metadata": {
      "needs_background": "light"
     },
     "output_type": "display_data"
    }
   ],
   "source": [
    "# bar chart -  distribution of a categorical variable\n",
    "data['heartRate'].value_counts().plot.bar()"
   ]
  },
  {
   "cell_type": "code",
   "execution_count": 24,
   "id": "d929d210",
   "metadata": {},
   "outputs": [
    {
     "data": {
      "text/plain": [
       "<AxesSubplot:xlabel='age', ylabel='count'>"
      ]
     },
     "execution_count": 24,
     "metadata": {},
     "output_type": "execute_result"
    },
    {
     "data": {
      "image/png": "[encoded data removed]",
      "text/plain": [
       "<Figure size 432x288 with 1 Axes>"
      ]
     },
     "metadata": {
      "needs_background": "light"
     },
     "output_type": "display_data"
    }
   ],
   "source": [
    "sns.countplot(x='age', data=data)"
   ]
  },
  {
   "cell_type": "code",
   "execution_count": 30,
   "id": "052a7f49",
   "metadata": {},
   "outputs": [
    {
     "data": {
      "text/plain": [
       "0    4213\n",
       "1      25\n",
       "Name: prevalentStroke, dtype: int64"
      ]
     },
     "execution_count": 30,
     "metadata": {},
     "output_type": "execute_result"
    }
   ],
   "source": [
    "# Checking for the imbalanced data based on prevalentStroke.\n",
    "data['prevalentStroke'].value_counts()"
   ]
  },
  {
   "cell_type": "code",
   "execution_count": 31,
   "id": "aa8fb528",
   "metadata": {},
   "outputs": [
    {
     "data": {
      "text/plain": [
       "False"
      ]
     },
     "execution_count": 31,
     "metadata": {},
     "output_type": "execute_result"
    }
   ],
   "source": [
    "# Checking for the missing values.\n",
    "data.isnull().values.any()"
   ]
  },
  {
   "cell_type": "code",
   "execution_count": 32,
   "id": "4cefd511",
   "metadata": {},
   "outputs": [
    {
     "name": "stdout",
     "output_type": "stream",
     "text": [
      "The Dataset 'framingham.csv' is now cleaned\n"
     ]
    }
   ],
   "source": [
    "print(\"The Dataset \\'framingham.csv' is now cleaned\")"
   ]
  },
  {
   "cell_type": "code",
   "execution_count": null,
   "id": "be08627c",
   "metadata": {},
   "outputs": [],
   "source": []
  }
 ],
 "metadata": {
  "kernelspec": {
   "display_name": "Python 3",
   "language": "python",
   "name": "python3"
  },
  "language_info": {
   "codemirror_mode": {
    "name": "ipython",
    "version": 3
   },
   "file_extension": ".py",
   "mimetype": "text/x-python",
   "name": "python",
   "nbconvert_exporter": "python",
   "pygments_lexer": "ipython3",
   "version": "3.8.8"
  }
 },
 "nbformat": 4,
 "nbformat_minor": 5
}
