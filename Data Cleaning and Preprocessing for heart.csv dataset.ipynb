{
 "cells": [
  {
   "cell_type": "code",
   "execution_count": 1,
   "id": "b5a0b73e",
   "metadata": {},
   "outputs": [
    {
     "name": "stdout",
     "output_type": "stream",
     "text": [
      "Team - 5\n",
      "Project Name - Heart Disease Prediction System.\n",
      "Module - Preprocessing, Data Cleaning and Exploratory Data Analysis.\n",
      "Dataset used - 'heart.csv'\n"
     ]
    }
   ],
   "source": [
    "print(\"Team - 5\")\n",
    "print(\"Project Name - Heart Disease Prediction System.\")\n",
    "print(\"Module - Preprocessing, Data Cleaning and Exploratory Data Analysis.\")\n",
    "print(\"Dataset used - \\'heart.csv'\")"
   ]
  },
  {
   "cell_type": "code",
   "execution_count": 2,
   "id": "9c783806",
   "metadata": {},
   "outputs": [],
   "source": [
    "import pandas as pd\n",
    "import numpy as np\n",
    "import matplotlib.pyplot as plt\n",
    "import seaborn as sns\n",
    "from sklearn.preprocessing import StandardScaler\n",
    "from sklearn.metrics import accuracy_score\n",
    "from sklearn.metrics import confusion_matrix\n",
    "from sklearn.metrics import f1_score\n",
    "from sklearn.model_selection import train_test_split\n",
    "import warnings\n",
    "warnings.filterwarnings('ignore')\n",
    "import sklearn.neighbors\n",
    "from sklearn.neighbors import KNeighborsClassifier"
   ]
  },
  {
   "cell_type": "code",
   "execution_count": 3,
   "id": "62242471",
   "metadata": {},
   "outputs": [],
   "source": [
    "data = pd.read_csv(r\"C:\\Users\\HP\\Downloads/heart.csv\")"
   ]
  },
  {
   "cell_type": "code",
   "execution_count": 4,
   "id": "de1025e8",
   "metadata": {},
   "outputs": [
    {
     "name": "stdout",
     "output_type": "stream",
     "text": [
      "   age  sex  cp  trestbps  chol  fbs  restecg  thalach  exang  oldpeak  slope  \\\n",
      "0   63    1   3       145   233    1        0      150      0      2.3      0   \n",
      "1   37    1   2       130   250    0        1      187      0      3.5      0   \n",
      "2   41    0   1       130   204    0        0      172      0      1.4      2   \n",
      "3   56    1   1       120   236    0        1      178      0      0.8      2   \n",
      "4   57    0   0       120   354    0        1      163      1      0.6      2   \n",
      "\n",
      "   ca  thal  target  \n",
      "0   0     1       1  \n",
      "1   0     2       1  \n",
      "2   0     2       1  \n",
      "3   0     2       1  \n",
      "4   0     2       1  \n"
     ]
    }
   ],
   "source": [
    "print(data.head())"
   ]
  },
  {
   "cell_type": "code",
   "execution_count": 5,
   "id": "6ab28cc3",
   "metadata": {},
   "outputs": [
    {
     "name": "stdout",
     "output_type": "stream",
     "text": [
      "[[63.  1.  3. ...  0.  1.  1.]\n",
      " [37.  1.  2. ...  0.  2.  1.]\n",
      " [41.  0.  1. ...  0.  2.  1.]\n",
      " ...\n",
      " [68.  1.  0. ...  2.  3.  0.]\n",
      " [57.  1.  0. ...  1.  3.  0.]\n",
      " [57.  0.  1. ...  1.  2.  0.]]\n"
     ]
    }
   ],
   "source": [
    "x=data.iloc[:,0:14].values\n",
    "print(x)"
   ]
  },
  {
   "cell_type": "code",
   "execution_count": 9,
   "id": "d9522425",
   "metadata": {},
   "outputs": [
    {
     "name": "stdout",
     "output_type": "stream",
     "text": [
      "[1 1 1 1 1 1 1 1 1 1 1 1 1 1 1 1 1 1 1 1 1 1 1 1 1 1 1 1 1 1 1 1 1 1 1 1 1\n",
      " 1 1 1 1 1 1 1 1 1 1 1 1 1 1 1 1 1 1 1 1 1 1 1 1 1 1 1 1 1 1 1 1 1 1 1 1 1\n",
      " 1 1 1 1 1 1 1 1 1 1 1 1 1 1 1 1 1 1 1 1 1 1 1 1 1 1 1 1 1 1 1 1 1 1 1 1 1\n",
      " 1 1 1 1 1 1 1 1 1 1 1 1 1 1 1 1 1 1 1 1 1 1 1 1 1 1 1 1 1 1 1 1 1 1 1 1 1\n",
      " 1 1 1 1 1 1 1 1 1 1 1 1 1 1 1 1 1 0 0 0 0 0 0 0 0 0 0 0 0 0 0 0 0 0 0 0 0\n",
      " 0 0 0 0 0 0 0 0 0 0 0 0 0 0 0 0 0 0 0 0 0 0 0 0 0 0 0 0 0 0 0 0 0 0 0 0 0\n",
      " 0 0 0 0 0 0 0 0 0 0 0 0 0 0 0 0 0 0 0 0 0 0 0 0 0 0 0 0 0 0 0 0 0 0 0 0 0\n",
      " 0 0 0 0 0 0 0 0 0 0 0 0 0 0 0 0 0 0 0 0 0 0 0 0 0 0 0 0 0 0 0 0 0 0 0 0 0\n",
      " 0 0 0 0 0 0 0]\n"
     ]
    }
   ],
   "source": [
    "y=data.iloc[:,13].values\n",
    "print(y)"
   ]
  },
  {
   "cell_type": "code",
   "execution_count": 10,
   "id": "bb772f42",
   "metadata": {},
   "outputs": [
    {
     "name": "stdout",
     "output_type": "stream",
     "text": [
      "              age         sex          cp    trestbps        chol         fbs  \\\n",
      "count  303.000000  303.000000  303.000000  303.000000  303.000000  303.000000   \n",
      "mean    54.366337    0.683168    0.966997  131.623762  246.264026    0.148515   \n",
      "std      9.082101    0.466011    1.032052   17.538143   51.830751    0.356198   \n",
      "min     29.000000    0.000000    0.000000   94.000000  126.000000    0.000000   \n",
      "25%     47.500000    0.000000    0.000000  120.000000  211.000000    0.000000   \n",
      "50%     55.000000    1.000000    1.000000  130.000000  240.000000    0.000000   \n",
      "75%     61.000000    1.000000    2.000000  140.000000  274.500000    0.000000   \n",
      "max     77.000000    1.000000    3.000000  200.000000  564.000000    1.000000   \n",
      "\n",
      "          restecg     thalach       exang     oldpeak       slope          ca  \\\n",
      "count  303.000000  303.000000  303.000000  303.000000  303.000000  303.000000   \n",
      "mean     0.528053  149.646865    0.326733    1.039604    1.399340    0.729373   \n",
      "std      0.525860   22.905161    0.469794    1.161075    0.616226    1.022606   \n",
      "min      0.000000   71.000000    0.000000    0.000000    0.000000    0.000000   \n",
      "25%      0.000000  133.500000    0.000000    0.000000    1.000000    0.000000   \n",
      "50%      1.000000  153.000000    0.000000    0.800000    1.000000    0.000000   \n",
      "75%      1.000000  166.000000    1.000000    1.600000    2.000000    1.000000   \n",
      "max      2.000000  202.000000    1.000000    6.200000    2.000000    4.000000   \n",
      "\n",
      "             thal      target  \n",
      "count  303.000000  303.000000  \n",
      "mean     2.313531    0.544554  \n",
      "std      0.612277    0.498835  \n",
      "min      0.000000    0.000000  \n",
      "25%      2.000000    0.000000  \n",
      "50%      2.000000    1.000000  \n",
      "75%      3.000000    1.000000  \n",
      "max      3.000000    1.000000  \n"
     ]
    }
   ],
   "source": [
    "print(data.describe())"
   ]
  },
  {
   "cell_type": "code",
   "execution_count": 11,
   "id": "ae352e6d",
   "metadata": {},
   "outputs": [
    {
     "name": "stdout",
     "output_type": "stream",
     "text": [
      "(303, 14)\n"
     ]
    }
   ],
   "source": [
    "print(data.shape)"
   ]
  },
  {
   "cell_type": "code",
   "execution_count": 12,
   "id": "9fc6fc76",
   "metadata": {},
   "outputs": [
    {
     "data": {
      "text/plain": [
       "False"
      ]
     },
     "execution_count": 12,
     "metadata": {},
     "output_type": "execute_result"
    }
   ],
   "source": [
    "# Checking for the missing values.\n",
    "data.isnull().values.any()"
   ]
  },
  {
   "cell_type": "code",
   "execution_count": 13,
   "id": "137f510a",
   "metadata": {},
   "outputs": [
    {
     "name": "stdout",
     "output_type": "stream",
     "text": [
      "Series([], dtype: int64)\n"
     ]
    }
   ],
   "source": [
    "missing_value_count_by_column=(data.isnull().sum())\n",
    "print(missing_value_count_by_column[missing_value_count_by_column>0])"
   ]
  },
  {
   "cell_type": "code",
   "execution_count": 14,
   "id": "90189ed9",
   "metadata": {},
   "outputs": [],
   "source": [
    "#Dropping columns with missing values\n",
    "#data_without_missing_values=data.dropna(axis=1)\n",
    "cols_with_missing=[col for col in data.columns if data[col].isnull().any()]\n",
    "reduced_original_data=data.drop(cols_with_missing,axis=1)\n",
    "reduced_test_data=data.drop(cols_with_missing,axis=1)"
   ]
  },
  {
   "cell_type": "code",
   "execution_count": 15,
   "id": "36308a16",
   "metadata": {},
   "outputs": [],
   "source": [
    "from sklearn.impute import SimpleImputer\n",
    "my_imputer=SimpleImputer()\n",
    "data_with_imputed_values=my_imputer.fit_transform(data)"
   ]
  },
  {
   "cell_type": "code",
   "execution_count": 16,
   "id": "f249c598",
   "metadata": {},
   "outputs": [
    {
     "name": "stdout",
     "output_type": "stream",
     "text": [
      "[[29.  1.  3. ...  0.  1.  1.]\n",
      " [ 3.  1.  2. ...  0.  2.  1.]\n",
      " [ 7.  0.  1. ...  0.  2.  1.]\n",
      " ...\n",
      " [34.  1.  0. ...  2.  3.  0.]\n",
      " [23.  1.  0. ...  1.  3.  0.]\n",
      " [23.  0.  1. ...  1.  2.  0.]]\n"
     ]
    }
   ],
   "source": [
    "#Catgorical data  \n",
    "#for Country Variable  \n",
    "from sklearn.preprocessing import LabelEncoder  \n",
    "label_encoder_x= LabelEncoder()  \n",
    "x[:, 0]= label_encoder_x.fit_transform(x[:, 0]) \n",
    "print(x)"
   ]
  },
  {
   "cell_type": "code",
   "execution_count": 17,
   "id": "67d8324c",
   "metadata": {},
   "outputs": [
    {
     "name": "stdout",
     "output_type": "stream",
     "text": [
      "[1 1 1 1 1 1 1 1 1 1 1 1 1 1 1 1 1 1 1 1 1 1 1 1 1 1 1 1 1 1 1 1 1 1 1 1 1\n",
      " 1 1 1 1 1 1 1 1 1 1 1 1 1 1 1 1 1 1 1 1 1 1 1 1 1 1 1 1 1 1 1 1 1 1 1 1 1\n",
      " 1 1 1 1 1 1 1 1 1 1 1 1 1 1 1 1 1 1 1 1 1 1 1 1 1 1 1 1 1 1 1 1 1 1 1 1 1\n",
      " 1 1 1 1 1 1 1 1 1 1 1 1 1 1 1 1 1 1 1 1 1 1 1 1 1 1 1 1 1 1 1 1 1 1 1 1 1\n",
      " 1 1 1 1 1 1 1 1 1 1 1 1 1 1 1 1 1 0 0 0 0 0 0 0 0 0 0 0 0 0 0 0 0 0 0 0 0\n",
      " 0 0 0 0 0 0 0 0 0 0 0 0 0 0 0 0 0 0 0 0 0 0 0 0 0 0 0 0 0 0 0 0 0 0 0 0 0\n",
      " 0 0 0 0 0 0 0 0 0 0 0 0 0 0 0 0 0 0 0 0 0 0 0 0 0 0 0 0 0 0 0 0 0 0 0 0 0\n",
      " 0 0 0 0 0 0 0 0 0 0 0 0 0 0 0 0 0 0 0 0 0 0 0 0 0 0 0 0 0 0 0 0 0 0 0 0 0\n",
      " 0 0 0 0 0 0 0]\n"
     ]
    }
   ],
   "source": [
    "labelencoder_y= LabelEncoder()  \n",
    "y= labelencoder_y.fit_transform(y)  \n",
    "print(y)"
   ]
  },
  {
   "cell_type": "code",
   "execution_count": 22,
   "id": "041de6a4",
   "metadata": {},
   "outputs": [],
   "source": [
    "from sklearn.model_selection import train_test_split  \n",
    "x_train, x_test, y_train, y_test= train_test_split(x, y, test_size= 0.2, random_state=0)  "
   ]
  },
  {
   "cell_type": "code",
   "execution_count": 23,
   "id": "02c73223",
   "metadata": {},
   "outputs": [
    {
     "name": "stdout",
     "output_type": "stream",
     "text": [
      "[[ 9.  0.  2. ...  0.  2.  1.]\n",
      " [32.  0.  2. ...  1.  2.  1.]\n",
      " [24.  1.  2. ...  0.  2.  1.]\n",
      " ...\n",
      " [22.  1.  3. ...  0.  3.  1.]\n",
      " [13.  1.  2. ...  0.  2.  1.]\n",
      " [24.  1.  1. ...  0.  2.  0.]]\n"
     ]
    }
   ],
   "source": [
    "print(x_train)"
   ]
  },
  {
   "cell_type": "code",
   "execution_count": 24,
   "id": "1c223110",
   "metadata": {},
   "outputs": [
    {
     "name": "stdout",
     "output_type": "stream",
     "text": [
      "[[3.60e+01 1.00e+00 0.00e+00 1.45e+02 1.74e+02 0.00e+00 1.00e+00 1.25e+02\n",
      "  1.00e+00 2.60e+00 0.00e+00 0.00e+00 3.00e+00 0.00e+00]\n",
      " [3.00e+01 1.00e+00 3.00e+00 1.70e+02 2.27e+02 0.00e+00 0.00e+00 1.55e+02\n",
      "  0.00e+00 6.00e-01 1.00e+00 0.00e+00 3.00e+00 1.00e+00]\n",
      " [2.50e+01 1.00e+00 3.00e+00 1.70e+02 2.88e+02 0.00e+00 0.00e+00 1.59e+02\n",
      "  0.00e+00 2.00e-01 1.00e+00 0.00e+00 3.00e+00 0.00e+00]\n",
      " [2.60e+01 1.00e+00 0.00e+00 1.25e+02 2.58e+02 0.00e+00 0.00e+00 1.41e+02\n",
      "  1.00e+00 2.80e+00 1.00e+00 1.00e+00 3.00e+00 0.00e+00]\n",
      " [2.80e+01 1.00e+00 2.00e+00 1.30e+02 2.31e+02 0.00e+00 1.00e+00 1.46e+02\n",
      "  0.00e+00 1.80e+00 1.00e+00 3.00e+00 3.00e+00 1.00e+00]\n",
      " [1.40e+01 1.00e+00 0.00e+00 1.24e+02 2.74e+02 0.00e+00 0.00e+00 1.66e+02\n",
      "  0.00e+00 5.00e-01 1.00e+00 0.00e+00 3.00e+00 0.00e+00]\n",
      " [6.00e+00 1.00e+00 0.00e+00 1.10e+02 1.67e+02 0.00e+00 0.00e+00 1.14e+02\n",
      "  1.00e+00 2.00e+00 1.00e+00 0.00e+00 3.00e+00 0.00e+00]\n",
      " [2.90e+01 1.00e+00 0.00e+00 1.30e+02 2.54e+02 0.00e+00 0.00e+00 1.47e+02\n",
      "  0.00e+00 1.40e+00 1.00e+00 1.00e+00 3.00e+00 0.00e+00]\n",
      " [2.20e+01 0.00e+00 0.00e+00 2.00e+02 2.88e+02 1.00e+00 0.00e+00 1.33e+02\n",
      "  1.00e+00 4.00e+00 0.00e+00 2.00e+00 3.00e+00 0.00e+00]\n",
      " [2.90e+01 1.00e+00 0.00e+00 1.30e+02 3.30e+02 1.00e+00 0.00e+00 1.32e+02\n",
      "  1.00e+00 1.80e+00 2.00e+00 3.00e+00 3.00e+00 0.00e+00]\n",
      " [2.30e+01 1.00e+00 2.00e+00 1.50e+02 1.26e+02 1.00e+00 1.00e+00 1.73e+02\n",
      "  0.00e+00 2.00e-01 2.00e+00 1.00e+00 3.00e+00 1.00e+00]\n",
      " [1.50e+01 0.00e+00 0.00e+00 1.30e+02 2.69e+02 0.00e+00 1.00e+00 1.63e+02\n",
      "  0.00e+00 0.00e+00 2.00e+00 0.00e+00 2.00e+00 1.00e+00]\n",
      " [3.10e+01 1.00e+00 0.00e+00 1.35e+02 2.54e+02 0.00e+00 0.00e+00 1.27e+02\n",
      "  0.00e+00 2.80e+00 1.00e+00 1.00e+00 3.00e+00 0.00e+00]\n",
      " [1.50e+01 1.00e+00 1.00e+00 1.30e+02 2.66e+02 0.00e+00 1.00e+00 1.71e+02\n",
      "  0.00e+00 6.00e-01 2.00e+00 0.00e+00 2.00e+00 1.00e+00]\n",
      " [1.60e+01 0.00e+00 2.00e+00 1.20e+02 2.19e+02 0.00e+00 1.00e+00 1.58e+02\n",
      "  0.00e+00 1.60e+00 1.00e+00 0.00e+00 2.00e+00 1.00e+00]\n",
      " [1.70e+01 1.00e+00 2.00e+00 1.00e+02 2.22e+02 0.00e+00 1.00e+00 1.43e+02\n",
      "  1.00e+00 1.20e+00 1.00e+00 0.00e+00 2.00e+00 1.00e+00]\n",
      " [1.80e+01 1.00e+00 0.00e+00 1.08e+02 2.33e+02 1.00e+00 1.00e+00 1.47e+02\n",
      "  0.00e+00 1.00e-01 2.00e+00 3.00e+00 3.00e+00 1.00e+00]\n",
      " [1.40e+01 1.00e+00 2.00e+00 1.24e+02 2.55e+02 1.00e+00 1.00e+00 1.75e+02\n",
      "  0.00e+00 0.00e+00 2.00e+00 2.00e+00 2.00e+00 1.00e+00]\n",
      " [2.80e+01 1.00e+00 0.00e+00 1.20e+02 2.67e+02 0.00e+00 1.00e+00 9.90e+01\n",
      "  1.00e+00 1.80e+00 1.00e+00 2.00e+00 3.00e+00 0.00e+00]\n",
      " [8.00e+00 1.00e+00 2.00e+00 1.20e+02 2.40e+02 1.00e+00 1.00e+00 1.94e+02\n",
      "  0.00e+00 8.00e-01 0.00e+00 0.00e+00 3.00e+00 1.00e+00]\n",
      " [8.00e+00 1.00e+00 0.00e+00 1.40e+02 2.26e+02 0.00e+00 1.00e+00 1.78e+02\n",
      "  0.00e+00 0.00e+00 2.00e+00 0.00e+00 2.00e+00 1.00e+00]\n",
      " [5.00e+00 1.00e+00 0.00e+00 1.18e+02 2.19e+02 0.00e+00 1.00e+00 1.40e+02\n",
      "  0.00e+00 1.20e+00 1.00e+00 0.00e+00 3.00e+00 0.00e+00]\n",
      " [2.80e+01 1.00e+00 1.00e+00 1.20e+02 2.81e+02 0.00e+00 0.00e+00 1.03e+02\n",
      "  0.00e+00 1.40e+00 1.00e+00 1.00e+00 3.00e+00 0.00e+00]\n",
      " [2.00e+01 1.00e+00 0.00e+00 1.10e+02 2.06e+02 0.00e+00 0.00e+00 1.08e+02\n",
      "  1.00e+00 0.00e+00 1.00e+00 1.00e+00 2.00e+00 0.00e+00]\n",
      " [7.00e+00 1.00e+00 1.00e+00 1.10e+02 2.35e+02 0.00e+00 1.00e+00 1.53e+02\n",
      "  0.00e+00 0.00e+00 2.00e+00 0.00e+00 2.00e+00 1.00e+00]\n",
      " [2.80e+01 0.00e+00 2.00e+00 1.30e+02 2.63e+02 0.00e+00 1.00e+00 9.70e+01\n",
      "  0.00e+00 1.20e+00 1.00e+00 1.00e+00 3.00e+00 0.00e+00]\n",
      " [1.80e+01 1.00e+00 0.00e+00 1.25e+02 2.12e+02 0.00e+00 1.00e+00 1.68e+02\n",
      "  0.00e+00 1.00e+00 2.00e+00 2.00e+00 3.00e+00 0.00e+00]\n",
      " [1.20e+01 1.00e+00 0.00e+00 1.20e+02 2.49e+02 0.00e+00 0.00e+00 1.44e+02\n",
      "  0.00e+00 8.00e-01 2.00e+00 0.00e+00 3.00e+00 0.00e+00]\n",
      " [5.00e+00 0.00e+00 2.00e+00 1.38e+02 2.20e+02 0.00e+00 1.00e+00 1.52e+02\n",
      "  0.00e+00 0.00e+00 1.00e+00 0.00e+00 2.00e+00 1.00e+00]\n",
      " [1.80e+01 1.00e+00 1.00e+00 1.34e+02 2.01e+02 0.00e+00 1.00e+00 1.58e+02\n",
      "  0.00e+00 8.00e-01 2.00e+00 1.00e+00 2.00e+00 1.00e+00]\n",
      " [2.60e+01 1.00e+00 2.00e+00 1.40e+02 1.85e+02 0.00e+00 0.00e+00 1.55e+02\n",
      "  0.00e+00 3.00e+00 1.00e+00 0.00e+00 2.00e+00 0.00e+00]\n",
      " [1.10e+01 1.00e+00 0.00e+00 1.42e+02 3.09e+02 0.00e+00 0.00e+00 1.47e+02\n",
      "  1.00e+00 0.00e+00 1.00e+00 3.00e+00 3.00e+00 0.00e+00]\n",
      " [7.00e+00 0.00e+00 1.00e+00 1.26e+02 3.06e+02 0.00e+00 1.00e+00 1.63e+02\n",
      "  0.00e+00 0.00e+00 2.00e+00 0.00e+00 2.00e+00 1.00e+00]\n",
      " [1.80e+01 1.00e+00 2.00e+00 1.72e+02 1.99e+02 1.00e+00 1.00e+00 1.62e+02\n",
      "  0.00e+00 5.00e-01 2.00e+00 0.00e+00 3.00e+00 1.00e+00]\n",
      " [2.00e+00 1.00e+00 1.00e+00 1.22e+02 1.92e+02 0.00e+00 1.00e+00 1.74e+02\n",
      "  0.00e+00 0.00e+00 2.00e+00 0.00e+00 2.00e+00 1.00e+00]\n",
      " [2.50e+01 0.00e+00 0.00e+00 1.74e+02 2.49e+02 0.00e+00 1.00e+00 1.43e+02\n",
      "  1.00e+00 0.00e+00 1.00e+00 0.00e+00 2.00e+00 0.00e+00]\n",
      " [3.60e+01 1.00e+00 2.00e+00 1.60e+02 2.69e+02 0.00e+00 1.00e+00 1.12e+02\n",
      "  1.00e+00 2.90e+00 1.00e+00 1.00e+00 3.00e+00 0.00e+00]\n",
      " [1.10e+01 1.00e+00 1.00e+00 1.28e+02 3.08e+02 0.00e+00 0.00e+00 1.70e+02\n",
      "  0.00e+00 0.00e+00 2.00e+00 0.00e+00 2.00e+00 1.00e+00]\n",
      " [2.20e+01 1.00e+00 0.00e+00 1.25e+02 2.49e+02 1.00e+00 0.00e+00 1.44e+02\n",
      "  1.00e+00 1.20e+00 1.00e+00 1.00e+00 2.00e+00 0.00e+00]\n",
      " [2.80e+01 0.00e+00 0.00e+00 1.40e+02 2.68e+02 0.00e+00 0.00e+00 1.60e+02\n",
      "  0.00e+00 3.60e+00 0.00e+00 2.00e+00 2.00e+00 0.00e+00]\n",
      " [2.30e+01 1.00e+00 0.00e+00 1.40e+02 1.92e+02 0.00e+00 1.00e+00 1.48e+02\n",
      "  0.00e+00 4.00e-01 1.00e+00 0.00e+00 1.00e+00 1.00e+00]\n",
      " [2.30e+01 0.00e+00 0.00e+00 1.28e+02 3.03e+02 0.00e+00 0.00e+00 1.59e+02\n",
      "  0.00e+00 0.00e+00 2.00e+00 1.00e+00 2.00e+00 1.00e+00]\n",
      " [1.80e+01 1.00e+00 2.00e+00 1.38e+02 2.23e+02 0.00e+00 1.00e+00 1.69e+02\n",
      "  0.00e+00 0.00e+00 2.00e+00 4.00e+00 2.00e+00 1.00e+00]\n",
      " [1.30e+01 1.00e+00 0.00e+00 1.10e+02 2.75e+02 0.00e+00 0.00e+00 1.18e+02\n",
      "  1.00e+00 1.00e+00 1.00e+00 1.00e+00 2.00e+00 0.00e+00]\n",
      " [1.70e+01 1.00e+00 3.00e+00 1.25e+02 2.13e+02 0.00e+00 0.00e+00 1.25e+02\n",
      "  1.00e+00 1.40e+00 2.00e+00 1.00e+00 2.00e+00 1.00e+00]\n",
      " [3.60e+01 1.00e+00 1.00e+00 1.56e+02 2.45e+02 0.00e+00 0.00e+00 1.43e+02\n",
      "  0.00e+00 0.00e+00 2.00e+00 0.00e+00 2.00e+00 1.00e+00]\n",
      " [7.00e+00 1.00e+00 2.00e+00 1.30e+02 2.14e+02 0.00e+00 0.00e+00 1.68e+02\n",
      "  0.00e+00 2.00e+00 1.00e+00 0.00e+00 2.00e+00 1.00e+00]\n",
      " [1.60e+01 1.00e+00 2.00e+00 1.40e+02 2.33e+02 0.00e+00 1.00e+00 1.63e+02\n",
      "  0.00e+00 6.00e-01 1.00e+00 1.00e+00 3.00e+00 0.00e+00]\n",
      " [2.20e+01 0.00e+00 0.00e+00 1.34e+02 4.09e+02 0.00e+00 0.00e+00 1.50e+02\n",
      "  1.00e+00 1.90e+00 1.00e+00 2.00e+00 3.00e+00 0.00e+00]\n",
      " [1.00e+01 1.00e+00 1.00e+00 1.20e+02 2.63e+02 0.00e+00 1.00e+00 1.73e+02\n",
      "  0.00e+00 0.00e+00 2.00e+00 0.00e+00 3.00e+00 1.00e+00]\n",
      " [1.80e+01 1.00e+00 1.00e+00 1.20e+02 3.25e+02 0.00e+00 1.00e+00 1.72e+02\n",
      "  0.00e+00 2.00e-01 2.00e+00 0.00e+00 2.00e+00 1.00e+00]\n",
      " [3.80e+01 0.00e+00 1.00e+00 1.20e+02 2.69e+02 0.00e+00 0.00e+00 1.21e+02\n",
      "  1.00e+00 2.00e-01 2.00e+00 1.00e+00 2.00e+00 1.00e+00]\n",
      " [7.00e+00 0.00e+00 2.00e+00 1.12e+02 2.68e+02 0.00e+00 0.00e+00 1.72e+02\n",
      "  1.00e+00 0.00e+00 2.00e+00 0.00e+00 2.00e+00 1.00e+00]\n",
      " [7.00e+00 1.00e+00 1.00e+00 1.35e+02 2.03e+02 0.00e+00 1.00e+00 1.32e+02\n",
      "  0.00e+00 0.00e+00 1.00e+00 0.00e+00 1.00e+00 1.00e+00]\n",
      " [5.00e+00 0.00e+00 2.00e+00 9.40e+01 1.99e+02 0.00e+00 1.00e+00 1.79e+02\n",
      "  0.00e+00 0.00e+00 2.00e+00 0.00e+00 2.00e+00 1.00e+00]\n",
      " [2.00e+00 1.00e+00 0.00e+00 1.20e+02 1.98e+02 0.00e+00 1.00e+00 1.30e+02\n",
      "  1.00e+00 1.60e+00 1.00e+00 0.00e+00 3.00e+00 0.00e+00]\n",
      " [1.00e+01 0.00e+00 2.00e+00 1.18e+02 2.42e+02 0.00e+00 1.00e+00 1.49e+02\n",
      "  0.00e+00 3.00e-01 1.00e+00 1.00e+00 2.00e+00 1.00e+00]\n",
      " [2.30e+01 0.00e+00 1.00e+00 1.30e+02 2.36e+02 0.00e+00 0.00e+00 1.74e+02\n",
      "  0.00e+00 0.00e+00 1.00e+00 1.00e+00 2.00e+00 0.00e+00]\n",
      " [2.50e+01 1.00e+00 2.00e+00 1.50e+02 2.12e+02 1.00e+00 1.00e+00 1.57e+02\n",
      "  0.00e+00 1.60e+00 2.00e+00 0.00e+00 2.00e+00 1.00e+00]\n",
      " [1.60e+01 0.00e+00 1.00e+00 1.20e+02 2.44e+02 0.00e+00 1.00e+00 1.62e+02\n",
      "  0.00e+00 1.10e+00 2.00e+00 0.00e+00 2.00e+00 1.00e+00]\n",
      " [2.40e+01 0.00e+00 0.00e+00 1.00e+02 2.48e+02 0.00e+00 0.00e+00 1.22e+02\n",
      "  0.00e+00 1.00e+00 1.00e+00 0.00e+00 2.00e+00 1.00e+00]]\n"
     ]
    }
   ],
   "source": [
    "print(x_test)"
   ]
  },
  {
   "cell_type": "code",
   "execution_count": 25,
   "id": "be48b9ff",
   "metadata": {},
   "outputs": [
    {
     "name": "stdout",
     "output_type": "stream",
     "text": [
      "[1 1 1 0 0 0 0 1 1 1 1 1 0 0 1 0 0 1 1 0 0 0 1 0 0 0 0 1 0 0 1 1 0 1 1 0 0\n",
      " 1 0 0 1 0 1 0 0 0 1 1 1 0 0 0 0 1 0 1 1 1 0 1 1 1 0 1 1 1 1 1 1 1 0 0 1 1\n",
      " 0 1 1 0 0 0 0 1 0 1 1 0 1 1 1 1 1 1 0 0 1 0 0 0 1 1 1 0 1 0 1 1 0 1 1 1 1\n",
      " 1 0 0 1 0 1 0 0 1 0 0 1 1 1 0 0 1 1 0 1 0 1 0 1 1 0 1 1 1 0 1 0 0 0 1 1 1\n",
      " 1 0 1 0 1 0 1 1 1 0 1 0 1 0 0 0 1 1 0 1 0 1 1 0 0 1 0 1 1 0 1 1 1 1 1 0 0\n",
      " 1 1 1 0 0 1 1 1 1 1 0 1 1 0 1 1 0 1 1 0 0 1 1 1 0 0 0 1 0 0 1 0 0 1 0 1 1\n",
      " 0 0 0 0 1 0 1 1 1 0 0 0 0 1 0 0 0 1 1 0]\n"
     ]
    }
   ],
   "source": [
    "print(y_train)"
   ]
  },
  {
   "cell_type": "code",
   "execution_count": 26,
   "id": "cc2dd1a5",
   "metadata": {},
   "outputs": [
    {
     "name": "stdout",
     "output_type": "stream",
     "text": [
      "[0 1 0 0 1 0 0 0 0 0 1 1 0 1 1 1 1 1 0 1 1 0 0 0 1 0 0 0 1 1 0 0 1 1 1 0 0\n",
      " 1 0 0 1 1 1 0 1 1 1 0 0 1 1 1 1 1 1 0 1 0 1 1 1]\n"
     ]
    }
   ],
   "source": [
    "print(y_test)"
   ]
  },
  {
   "cell_type": "code",
   "execution_count": 29,
   "id": "7ef04772",
   "metadata": {},
   "outputs": [],
   "source": [
    "#To fill in missing values by their mean values\n",
    "data.fillna(data.mean(),inplace=True)"
   ]
  },
  {
   "cell_type": "code",
   "execution_count": 30,
   "id": "67c123a4",
   "metadata": {},
   "outputs": [
    {
     "name": "stdout",
     "output_type": "stream",
     "text": [
      "     age  sex  cp  trestbps  chol  fbs  restecg  thalach  exang  oldpeak  \\\n",
      "0     63    1   3       145   233    1        0      150      0      2.3   \n",
      "1     37    1   2       130   250    0        1      187      0      3.5   \n",
      "2     41    0   1       130   204    0        0      172      0      1.4   \n",
      "3     56    1   1       120   236    0        1      178      0      0.8   \n",
      "4     57    0   0       120   354    0        1      163      1      0.6   \n",
      "..   ...  ...  ..       ...   ...  ...      ...      ...    ...      ...   \n",
      "298   57    0   0       140   241    0        1      123      1      0.2   \n",
      "299   45    1   3       110   264    0        1      132      0      1.2   \n",
      "300   68    1   0       144   193    1        1      141      0      3.4   \n",
      "301   57    1   0       130   131    0        1      115      1      1.2   \n",
      "302   57    0   1       130   236    0        0      174      0      0.0   \n",
      "\n",
      "     slope  ca  thal  target  \n",
      "0        0   0     1       1  \n",
      "1        0   0     2       1  \n",
      "2        2   0     2       1  \n",
      "3        2   0     2       1  \n",
      "4        2   0     2       1  \n",
      "..     ...  ..   ...     ...  \n",
      "298      1   0     3       0  \n",
      "299      1   0     3       0  \n",
      "300      1   2     3       0  \n",
      "301      1   1     3       0  \n",
      "302      1   1     2       0  \n",
      "\n",
      "[303 rows x 14 columns]\n"
     ]
    }
   ],
   "source": [
    "print(data)"
   ]
  },
  {
   "cell_type": "code",
   "execution_count": 31,
   "id": "3d257ae9",
   "metadata": {},
   "outputs": [
    {
     "data": {
      "text/plain": [
       "204    6\n",
       "197    6\n",
       "234    6\n",
       "269    5\n",
       "212    5\n",
       "      ..\n",
       "215    1\n",
       "210    1\n",
       "200    1\n",
       "195    1\n",
       "417    1\n",
       "Name: chol, Length: 152, dtype: int64"
      ]
     },
     "execution_count": 31,
     "metadata": {},
     "output_type": "execute_result"
    }
   ],
   "source": [
    "# Checking for the imbalanced data based on chol.\n",
    "data['chol'].value_counts()"
   ]
  },
  {
   "cell_type": "code",
   "execution_count": 32,
   "id": "482dd9cb",
   "metadata": {},
   "outputs": [
    {
     "data": {
      "text/html": [
       "<div>\n",
       "<style scoped>\n",
       "    .dataframe tbody tr th:only-of-type {\n",
       "        vertical-align: middle;\n",
       "    }\n",
       "\n",
       "    .dataframe tbody tr th {\n",
       "        vertical-align: top;\n",
       "    }\n",
       "\n",
       "    .dataframe thead th {\n",
       "        text-align: right;\n",
       "    }\n",
       "</style>\n",
       "<table border=\"1\" class=\"dataframe\">\n",
       "  <thead>\n",
       "    <tr style=\"text-align: right;\">\n",
       "      <th></th>\n",
       "      <th>age</th>\n",
       "      <th>sex</th>\n",
       "      <th>cp</th>\n",
       "      <th>trestbps</th>\n",
       "      <th>chol</th>\n",
       "      <th>fbs</th>\n",
       "      <th>restecg</th>\n",
       "      <th>thalach</th>\n",
       "      <th>exang</th>\n",
       "      <th>oldpeak</th>\n",
       "      <th>slope</th>\n",
       "      <th>ca</th>\n",
       "      <th>thal</th>\n",
       "      <th>target</th>\n",
       "    </tr>\n",
       "  </thead>\n",
       "  <tbody>\n",
       "    <tr>\n",
       "      <th>age</th>\n",
       "      <td>1.000000</td>\n",
       "      <td>-0.098447</td>\n",
       "      <td>-0.068653</td>\n",
       "      <td>0.279351</td>\n",
       "      <td>0.213678</td>\n",
       "      <td>0.121308</td>\n",
       "      <td>-0.116211</td>\n",
       "      <td>-0.398522</td>\n",
       "      <td>0.096801</td>\n",
       "      <td>0.210013</td>\n",
       "      <td>-0.168814</td>\n",
       "      <td>0.276326</td>\n",
       "      <td>0.068001</td>\n",
       "      <td>-0.225439</td>\n",
       "    </tr>\n",
       "    <tr>\n",
       "      <th>sex</th>\n",
       "      <td>-0.098447</td>\n",
       "      <td>1.000000</td>\n",
       "      <td>-0.049353</td>\n",
       "      <td>-0.056769</td>\n",
       "      <td>-0.197912</td>\n",
       "      <td>0.045032</td>\n",
       "      <td>-0.058196</td>\n",
       "      <td>-0.044020</td>\n",
       "      <td>0.141664</td>\n",
       "      <td>0.096093</td>\n",
       "      <td>-0.030711</td>\n",
       "      <td>0.118261</td>\n",
       "      <td>0.210041</td>\n",
       "      <td>-0.280937</td>\n",
       "    </tr>\n",
       "    <tr>\n",
       "      <th>cp</th>\n",
       "      <td>-0.068653</td>\n",
       "      <td>-0.049353</td>\n",
       "      <td>1.000000</td>\n",
       "      <td>0.047608</td>\n",
       "      <td>-0.076904</td>\n",
       "      <td>0.094444</td>\n",
       "      <td>0.044421</td>\n",
       "      <td>0.295762</td>\n",
       "      <td>-0.394280</td>\n",
       "      <td>-0.149230</td>\n",
       "      <td>0.119717</td>\n",
       "      <td>-0.181053</td>\n",
       "      <td>-0.161736</td>\n",
       "      <td>0.433798</td>\n",
       "    </tr>\n",
       "    <tr>\n",
       "      <th>trestbps</th>\n",
       "      <td>0.279351</td>\n",
       "      <td>-0.056769</td>\n",
       "      <td>0.047608</td>\n",
       "      <td>1.000000</td>\n",
       "      <td>0.123174</td>\n",
       "      <td>0.177531</td>\n",
       "      <td>-0.114103</td>\n",
       "      <td>-0.046698</td>\n",
       "      <td>0.067616</td>\n",
       "      <td>0.193216</td>\n",
       "      <td>-0.121475</td>\n",
       "      <td>0.101389</td>\n",
       "      <td>0.062210</td>\n",
       "      <td>-0.144931</td>\n",
       "    </tr>\n",
       "    <tr>\n",
       "      <th>chol</th>\n",
       "      <td>0.213678</td>\n",
       "      <td>-0.197912</td>\n",
       "      <td>-0.076904</td>\n",
       "      <td>0.123174</td>\n",
       "      <td>1.000000</td>\n",
       "      <td>0.013294</td>\n",
       "      <td>-0.151040</td>\n",
       "      <td>-0.009940</td>\n",
       "      <td>0.067023</td>\n",
       "      <td>0.053952</td>\n",
       "      <td>-0.004038</td>\n",
       "      <td>0.070511</td>\n",
       "      <td>0.098803</td>\n",
       "      <td>-0.085239</td>\n",
       "    </tr>\n",
       "    <tr>\n",
       "      <th>fbs</th>\n",
       "      <td>0.121308</td>\n",
       "      <td>0.045032</td>\n",
       "      <td>0.094444</td>\n",
       "      <td>0.177531</td>\n",
       "      <td>0.013294</td>\n",
       "      <td>1.000000</td>\n",
       "      <td>-0.084189</td>\n",
       "      <td>-0.008567</td>\n",
       "      <td>0.025665</td>\n",
       "      <td>0.005747</td>\n",
       "      <td>-0.059894</td>\n",
       "      <td>0.137979</td>\n",
       "      <td>-0.032019</td>\n",
       "      <td>-0.028046</td>\n",
       "    </tr>\n",
       "    <tr>\n",
       "      <th>restecg</th>\n",
       "      <td>-0.116211</td>\n",
       "      <td>-0.058196</td>\n",
       "      <td>0.044421</td>\n",
       "      <td>-0.114103</td>\n",
       "      <td>-0.151040</td>\n",
       "      <td>-0.084189</td>\n",
       "      <td>1.000000</td>\n",
       "      <td>0.044123</td>\n",
       "      <td>-0.070733</td>\n",
       "      <td>-0.058770</td>\n",
       "      <td>0.093045</td>\n",
       "      <td>-0.072042</td>\n",
       "      <td>-0.011981</td>\n",
       "      <td>0.137230</td>\n",
       "    </tr>\n",
       "    <tr>\n",
       "      <th>thalach</th>\n",
       "      <td>-0.398522</td>\n",
       "      <td>-0.044020</td>\n",
       "      <td>0.295762</td>\n",
       "      <td>-0.046698</td>\n",
       "      <td>-0.009940</td>\n",
       "      <td>-0.008567</td>\n",
       "      <td>0.044123</td>\n",
       "      <td>1.000000</td>\n",
       "      <td>-0.378812</td>\n",
       "      <td>-0.344187</td>\n",
       "      <td>0.386784</td>\n",
       "      <td>-0.213177</td>\n",
       "      <td>-0.096439</td>\n",
       "      <td>0.421741</td>\n",
       "    </tr>\n",
       "    <tr>\n",
       "      <th>exang</th>\n",
       "      <td>0.096801</td>\n",
       "      <td>0.141664</td>\n",
       "      <td>-0.394280</td>\n",
       "      <td>0.067616</td>\n",
       "      <td>0.067023</td>\n",
       "      <td>0.025665</td>\n",
       "      <td>-0.070733</td>\n",
       "      <td>-0.378812</td>\n",
       "      <td>1.000000</td>\n",
       "      <td>0.288223</td>\n",
       "      <td>-0.257748</td>\n",
       "      <td>0.115739</td>\n",
       "      <td>0.206754</td>\n",
       "      <td>-0.436757</td>\n",
       "    </tr>\n",
       "    <tr>\n",
       "      <th>oldpeak</th>\n",
       "      <td>0.210013</td>\n",
       "      <td>0.096093</td>\n",
       "      <td>-0.149230</td>\n",
       "      <td>0.193216</td>\n",
       "      <td>0.053952</td>\n",
       "      <td>0.005747</td>\n",
       "      <td>-0.058770</td>\n",
       "      <td>-0.344187</td>\n",
       "      <td>0.288223</td>\n",
       "      <td>1.000000</td>\n",
       "      <td>-0.577537</td>\n",
       "      <td>0.222682</td>\n",
       "      <td>0.210244</td>\n",
       "      <td>-0.430696</td>\n",
       "    </tr>\n",
       "    <tr>\n",
       "      <th>slope</th>\n",
       "      <td>-0.168814</td>\n",
       "      <td>-0.030711</td>\n",
       "      <td>0.119717</td>\n",
       "      <td>-0.121475</td>\n",
       "      <td>-0.004038</td>\n",
       "      <td>-0.059894</td>\n",
       "      <td>0.093045</td>\n",
       "      <td>0.386784</td>\n",
       "      <td>-0.257748</td>\n",
       "      <td>-0.577537</td>\n",
       "      <td>1.000000</td>\n",
       "      <td>-0.080155</td>\n",
       "      <td>-0.104764</td>\n",
       "      <td>0.345877</td>\n",
       "    </tr>\n",
       "    <tr>\n",
       "      <th>ca</th>\n",
       "      <td>0.276326</td>\n",
       "      <td>0.118261</td>\n",
       "      <td>-0.181053</td>\n",
       "      <td>0.101389</td>\n",
       "      <td>0.070511</td>\n",
       "      <td>0.137979</td>\n",
       "      <td>-0.072042</td>\n",
       "      <td>-0.213177</td>\n",
       "      <td>0.115739</td>\n",
       "      <td>0.222682</td>\n",
       "      <td>-0.080155</td>\n",
       "      <td>1.000000</td>\n",
       "      <td>0.151832</td>\n",
       "      <td>-0.391724</td>\n",
       "    </tr>\n",
       "    <tr>\n",
       "      <th>thal</th>\n",
       "      <td>0.068001</td>\n",
       "      <td>0.210041</td>\n",
       "      <td>-0.161736</td>\n",
       "      <td>0.062210</td>\n",
       "      <td>0.098803</td>\n",
       "      <td>-0.032019</td>\n",
       "      <td>-0.011981</td>\n",
       "      <td>-0.096439</td>\n",
       "      <td>0.206754</td>\n",
       "      <td>0.210244</td>\n",
       "      <td>-0.104764</td>\n",
       "      <td>0.151832</td>\n",
       "      <td>1.000000</td>\n",
       "      <td>-0.344029</td>\n",
       "    </tr>\n",
       "    <tr>\n",
       "      <th>target</th>\n",
       "      <td>-0.225439</td>\n",
       "      <td>-0.280937</td>\n",
       "      <td>0.433798</td>\n",
       "      <td>-0.144931</td>\n",
       "      <td>-0.085239</td>\n",
       "      <td>-0.028046</td>\n",
       "      <td>0.137230</td>\n",
       "      <td>0.421741</td>\n",
       "      <td>-0.436757</td>\n",
       "      <td>-0.430696</td>\n",
       "      <td>0.345877</td>\n",
       "      <td>-0.391724</td>\n",
       "      <td>-0.344029</td>\n",
       "      <td>1.000000</td>\n",
       "    </tr>\n",
       "  </tbody>\n",
       "</table>\n",
       "</div>"
      ],
      "text/plain": [
       "               age       sex        cp  trestbps      chol       fbs  \\\n",
       "age       1.000000 -0.098447 -0.068653  0.279351  0.213678  0.121308   \n",
       "sex      -0.098447  1.000000 -0.049353 -0.056769 -0.197912  0.045032   \n",
       "cp       -0.068653 -0.049353  1.000000  0.047608 -0.076904  0.094444   \n",
       "trestbps  0.279351 -0.056769  0.047608  1.000000  0.123174  0.177531   \n",
       "chol      0.213678 -0.197912 -0.076904  0.123174  1.000000  0.013294   \n",
       "fbs       0.121308  0.045032  0.094444  0.177531  0.013294  1.000000   \n",
       "restecg  -0.116211 -0.058196  0.044421 -0.114103 -0.151040 -0.084189   \n",
       "thalach  -0.398522 -0.044020  0.295762 -0.046698 -0.009940 -0.008567   \n",
       "exang     0.096801  0.141664 -0.394280  0.067616  0.067023  0.025665   \n",
       "oldpeak   0.210013  0.096093 -0.149230  0.193216  0.053952  0.005747   \n",
       "slope    -0.168814 -0.030711  0.119717 -0.121475 -0.004038 -0.059894   \n",
       "ca        0.276326  0.118261 -0.181053  0.101389  0.070511  0.137979   \n",
       "thal      0.068001  0.210041 -0.161736  0.062210  0.098803 -0.032019   \n",
       "target   -0.225439 -0.280937  0.433798 -0.144931 -0.085239 -0.028046   \n",
       "\n",
       "           restecg   thalach     exang   oldpeak     slope        ca  \\\n",
       "age      -0.116211 -0.398522  0.096801  0.210013 -0.168814  0.276326   \n",
       "sex      -0.058196 -0.044020  0.141664  0.096093 -0.030711  0.118261   \n",
       "cp        0.044421  0.295762 -0.394280 -0.149230  0.119717 -0.181053   \n",
       "trestbps -0.114103 -0.046698  0.067616  0.193216 -0.121475  0.101389   \n",
       "chol     -0.151040 -0.009940  0.067023  0.053952 -0.004038  0.070511   \n",
       "fbs      -0.084189 -0.008567  0.025665  0.005747 -0.059894  0.137979   \n",
       "restecg   1.000000  0.044123 -0.070733 -0.058770  0.093045 -0.072042   \n",
       "thalach   0.044123  1.000000 -0.378812 -0.344187  0.386784 -0.213177   \n",
       "exang    -0.070733 -0.378812  1.000000  0.288223 -0.257748  0.115739   \n",
       "oldpeak  -0.058770 -0.344187  0.288223  1.000000 -0.577537  0.222682   \n",
       "slope     0.093045  0.386784 -0.257748 -0.577537  1.000000 -0.080155   \n",
       "ca       -0.072042 -0.213177  0.115739  0.222682 -0.080155  1.000000   \n",
       "thal     -0.011981 -0.096439  0.206754  0.210244 -0.104764  0.151832   \n",
       "target    0.137230  0.421741 -0.436757 -0.430696  0.345877 -0.391724   \n",
       "\n",
       "              thal    target  \n",
       "age       0.068001 -0.225439  \n",
       "sex       0.210041 -0.280937  \n",
       "cp       -0.161736  0.433798  \n",
       "trestbps  0.062210 -0.144931  \n",
       "chol      0.098803 -0.085239  \n",
       "fbs      -0.032019 -0.028046  \n",
       "restecg  -0.011981  0.137230  \n",
       "thalach  -0.096439  0.421741  \n",
       "exang     0.206754 -0.436757  \n",
       "oldpeak   0.210244 -0.430696  \n",
       "slope    -0.104764  0.345877  \n",
       "ca        0.151832 -0.391724  \n",
       "thal      1.000000 -0.344029  \n",
       "target   -0.344029  1.000000  "
      ]
     },
     "execution_count": 32,
     "metadata": {},
     "output_type": "execute_result"
    }
   ],
   "source": [
    "# Checking for any correlations.\n",
    "data.corr()"
   ]
  },
  {
   "cell_type": "code",
   "execution_count": 33,
   "id": "d6b40d41",
   "metadata": {},
   "outputs": [
    {
     "data": {
      "text/plain": [
       "<AxesSubplot:>"
      ]
     },
     "execution_count": 33,
     "metadata": {},
     "output_type": "execute_result"
    },
    {
     "data": {
      "image/png": "[encoded data removed]",
      "text/plain": [
       "<Figure size 432x288 with 1 Axes>"
      ]
     },
     "metadata": {
      "needs_background": "light"
     },
     "output_type": "display_data"
    }
   ],
   "source": [
    "# histogram of thal.\n",
    "data['thal'].hist(bins=100)"
   ]
  },
  {
   "cell_type": "code",
   "execution_count": 34,
   "id": "7962f273",
   "metadata": {},
   "outputs": [
    {
     "data": {
      "text/plain": [
       "<AxesSubplot:xlabel='age', ylabel='count'>"
      ]
     },
     "execution_count": 34,
     "metadata": {},
     "output_type": "execute_result"
    },
    {
     "data": {
      "image/png": "[encoded data removed]",
      "text/plain": [
       "<Figure size 432x288 with 1 Axes>"
      ]
     },
     "metadata": {
      "needs_background": "light"
     },
     "output_type": "display_data"
    }
   ],
   "source": [
    "sns.countplot(x='age', data=data)"
   ]
  },
  {
   "cell_type": "code",
   "execution_count": 35,
   "id": "f0958da3",
   "metadata": {},
   "outputs": [
    {
     "data": {
      "text/plain": [
       "<AxesSubplot:>"
      ]
     },
     "execution_count": 35,
     "metadata": {},
     "output_type": "execute_result"
    },
    {
     "data": {
      "image/png": "[encoded data removed]",
      "text/plain": [
       "<Figure size 432x288 with 1 Axes>"
      ]
     },
     "metadata": {
      "needs_background": "light"
     },
     "output_type": "display_data"
    }
   ],
   "source": [
    "# bar chart -  distribution of a categorical variable\n",
    "data['chol'].value_counts().plot.bar()"
   ]
  },
  {
   "cell_type": "code",
   "execution_count": 38,
   "id": "1de1ec90",
   "metadata": {},
   "outputs": [
    {
     "data": {
      "text/plain": [
       "<AxesSubplot:>"
      ]
     },
     "execution_count": 38,
     "metadata": {},
     "output_type": "execute_result"
    },
    {
     "data": {
      "image/png": "[encoded data removed]",
      "text/plain": [
       "<Figure size 432x288 with 1 Axes>"
      ]
     },
     "metadata": {
      "needs_background": "light"
     },
     "output_type": "display_data"
    }
   ],
   "source": [
    "# bar chart -  distribution of a categorical variable\n",
    "data['slope'].value_counts().plot.bar()"
   ]
  },
  {
   "cell_type": "code",
   "execution_count": 39,
   "id": "9147081f",
   "metadata": {},
   "outputs": [
    {
     "data": {
      "text/plain": [
       "58    19\n",
       "57    17\n",
       "54    16\n",
       "59    14\n",
       "52    13\n",
       "51    12\n",
       "62    11\n",
       "60    11\n",
       "44    11\n",
       "56    11\n",
       "41    10\n",
       "64    10\n",
       "63     9\n",
       "67     9\n",
       "65     8\n",
       "55     8\n",
       "61     8\n",
       "53     8\n",
       "45     8\n",
       "43     8\n",
       "42     8\n",
       "50     7\n",
       "66     7\n",
       "48     7\n",
       "46     7\n",
       "49     5\n",
       "47     5\n",
       "70     4\n",
       "39     4\n",
       "68     4\n",
       "35     4\n",
       "69     3\n",
       "40     3\n",
       "38     3\n",
       "71     3\n",
       "37     2\n",
       "34     2\n",
       "76     1\n",
       "29     1\n",
       "74     1\n",
       "77     1\n",
       "Name: age, dtype: int64"
      ]
     },
     "execution_count": 39,
     "metadata": {},
     "output_type": "execute_result"
    }
   ],
   "source": [
    "# Checking for the imbalanced data based on age.\n",
    "data['age'].value_counts()"
   ]
  },
  {
   "cell_type": "code",
   "execution_count": 40,
   "id": "15ea2559",
   "metadata": {},
   "outputs": [
    {
     "data": {
      "text/plain": [
       "False"
      ]
     },
     "execution_count": 40,
     "metadata": {},
     "output_type": "execute_result"
    }
   ],
   "source": [
    "# Checking for the missing values.\n",
    "data.isnull().values.any()"
   ]
  },
  {
   "cell_type": "code",
   "execution_count": 47,
   "id": "360f8f67",
   "metadata": {},
   "outputs": [
    {
     "name": "stdout",
     "output_type": "stream",
     "text": [
      "The Dataset 'framingham.csv' is now cleaned.\n"
     ]
    }
   ],
   "source": [
    "print(\"The Dataset \\'framingham.csv' is now cleaned.\")"
   ]
  },
  {
   "cell_type": "code",
   "execution_count": null,
   "id": "51d359b3",
   "metadata": {},
   "outputs": [],
   "source": []
  }
 ],
 "metadata": {
  "kernelspec": {
   "display_name": "Python 3",
   "language": "python",
   "name": "python3"
  },
  "language_info": {
   "codemirror_mode": {
    "name": "ipython",
    "version": 3
   },
   "file_extension": ".py",
   "mimetype": "text/x-python",
   "name": "python",
   "nbconvert_exporter": "python",
   "pygments_lexer": "ipython3",
   "version": "3.8.8"
  }
 },
 "nbformat": 4,
 "nbformat_minor": 5
}
